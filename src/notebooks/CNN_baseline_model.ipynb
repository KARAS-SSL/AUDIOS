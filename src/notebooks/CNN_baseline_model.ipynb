{
 "cells": [
  {
   "cell_type": "markdown",
   "metadata": {},
   "source": [
    "# CNN Baseline model\n",
    "\n",
    "This notebook aims to provide a baseline CNN model for comparison with our auto-supervised approach to the deepfake audio detection.\n",
    "\n",
    "The model choosed was [YAMNet](https://www.kaggle.com/models/google/yamnet). It is a CNN based audio model pretrained on the [AudioSet](http://research.google.com/audioset/index.html) dataset, to classify between 521 audio event classes in a collection of 2,084,320 human-labeled 10-second sound clips drawn from YouTube videos. The architecture of YAMNet uses MobileNet v1.\n",
    "\n",
    "The model was pretrained on a supervised way, and will be fine-tuned also in a supervised way, to see how it compares with the self-supervised approach.\n",
    "\n",
    "To get the model, it is need to install **torch_vggish_yamnet** package: https://pypi.org/project/torch-vggish-yamnet/"
   ]
  },
  {
   "cell_type": "markdown",
   "metadata": {},
   "source": [
    "## Summary\n",
    "\n",
    "* [Part 1: Notebook setup](#part_01)\n",
    "* [Part 2: Data loading](#part_02)\n",
    "* [Part 3: Model fine tuning](#part_03)\n",
    "* [Part 4: Model evaluation](#part_04)"
   ]
  },
  {
   "cell_type": "markdown",
   "metadata": {},
   "source": [
    "## Notebook setup <a class=\"anchor\" id=\"part_01\"></a>"
   ]
  },
  {
   "cell_type": "code",
   "execution_count": null,
   "metadata": {},
   "outputs": [
    {
     "name": "stdout",
     "output_type": "stream",
     "text": [
      "# params: 3740425\n"
     ]
    }
   ],
   "source": [
    "import os\n",
    "import numpy as np\n",
    "import pandas as pd\n",
    "import torch\n",
    "from torch.nn import functional as TF\n",
    "import torchaudio\n",
    "import torchaudio.functional as TAF\n",
    "import pathlib\n",
    "\n",
    "from torch_vggish_yamnet import yamnet\n",
    "from torch_vggish_yamnet.input_proc import *\n",
    "\n",
    "PATH_TO_DATASET = \"/media/elias/ssd1tb/Projects/AUDIOS/datasets/release\"\n",
    "\n",
    "RANDOM_STATE = 7 # the biblical number of perfection =)\n",
    "\n",
    "BATCH_SIZE = 128\n",
    "\n",
    "model = yamnet.yamnet(pretrained=True)\n",
    "converter = WaveformToInput()\n",
    "\n",
    "print(\n",
    "    \"number of params:\",\n",
    "    sum(param.numel() for param in model.parameters() if param.requires_grad),\n",
    ")\n",
    "\n",
    "if torch.cuda.is_available():\n",
    "    device = torch.device(\"cuda\")\n",
    "else:\n",
    "    device = torch.device(\"cpu\")\n",
    "\n",
    "if \"cuda\" in str(device):\n",
    "    model = model.to(device)"
   ]
  },
  {
   "cell_type": "markdown",
   "metadata": {},
   "source": [
    "## Data loading  <a class=\"anchor\" id=\"part_02\"></a>"
   ]
  },
  {
   "cell_type": "code",
   "execution_count": 2,
   "metadata": {},
   "outputs": [
    {
     "data": {
      "text/html": [
       "<div>\n",
       "<style scoped>\n",
       "    .dataframe tbody tr th:only-of-type {\n",
       "        vertical-align: middle;\n",
       "    }\n",
       "\n",
       "    .dataframe tbody tr th {\n",
       "        vertical-align: top;\n",
       "    }\n",
       "\n",
       "    .dataframe thead th {\n",
       "        text-align: right;\n",
       "    }\n",
       "</style>\n",
       "<table border=\"1\" class=\"dataframe\">\n",
       "  <thead>\n",
       "    <tr style=\"text-align: right;\">\n",
       "      <th></th>\n",
       "      <th>file</th>\n",
       "      <th>speaker</th>\n",
       "      <th>id</th>\n",
       "      <th>gender</th>\n",
       "      <th>label</th>\n",
       "    </tr>\n",
       "  </thead>\n",
       "  <tbody>\n",
       "    <tr>\n",
       "      <th>0</th>\n",
       "      <td>fake_voices/Alcione_F018_Fake/1000_fake.wav</td>\n",
       "      <td>Alcione</td>\n",
       "      <td>F018</td>\n",
       "      <td>F</td>\n",
       "      <td>spoof</td>\n",
       "    </tr>\n",
       "    <tr>\n",
       "      <th>1</th>\n",
       "      <td>fake_voices/Alcione_F018_Fake/100_fake.wav</td>\n",
       "      <td>Alcione</td>\n",
       "      <td>F018</td>\n",
       "      <td>F</td>\n",
       "      <td>spoof</td>\n",
       "    </tr>\n",
       "    <tr>\n",
       "      <th>2</th>\n",
       "      <td>fake_voices/Alcione_F018_Fake/101_fake.wav</td>\n",
       "      <td>Alcione</td>\n",
       "      <td>F018</td>\n",
       "      <td>F</td>\n",
       "      <td>spoof</td>\n",
       "    </tr>\n",
       "    <tr>\n",
       "      <th>3</th>\n",
       "      <td>fake_voices/Alcione_F018_Fake/102_fake.wav</td>\n",
       "      <td>Alcione</td>\n",
       "      <td>F018</td>\n",
       "      <td>F</td>\n",
       "      <td>spoof</td>\n",
       "    </tr>\n",
       "    <tr>\n",
       "      <th>4</th>\n",
       "      <td>fake_voices/Alcione_F018_Fake/103_fake.wav</td>\n",
       "      <td>Alcione</td>\n",
       "      <td>F018</td>\n",
       "      <td>F</td>\n",
       "      <td>spoof</td>\n",
       "    </tr>\n",
       "  </tbody>\n",
       "</table>\n",
       "</div>"
      ],
      "text/plain": [
       "                                          file  speaker    id gender  label\n",
       "0  fake_voices/Alcione_F018_Fake/1000_fake.wav  Alcione  F018      F  spoof\n",
       "1   fake_voices/Alcione_F018_Fake/100_fake.wav  Alcione  F018      F  spoof\n",
       "2   fake_voices/Alcione_F018_Fake/101_fake.wav  Alcione  F018      F  spoof\n",
       "3   fake_voices/Alcione_F018_Fake/102_fake.wav  Alcione  F018      F  spoof\n",
       "4   fake_voices/Alcione_F018_Fake/103_fake.wav  Alcione  F018      F  spoof"
      ]
     },
     "execution_count": 2,
     "metadata": {},
     "output_type": "execute_result"
    }
   ],
   "source": [
    "train_metadata_df = pd.read_csv(os.path.join(PATH_TO_DATASET, 'splits', 'by_file', \"files-downstream_train.csv\"))\n",
    "train_metadata_df.head()"
   ]
  },
  {
   "cell_type": "code",
   "execution_count": 3,
   "metadata": {},
   "outputs": [
    {
     "data": {
      "text/html": [
       "<div>\n",
       "<style scoped>\n",
       "    .dataframe tbody tr th:only-of-type {\n",
       "        vertical-align: middle;\n",
       "    }\n",
       "\n",
       "    .dataframe tbody tr th {\n",
       "        vertical-align: top;\n",
       "    }\n",
       "\n",
       "    .dataframe thead th {\n",
       "        text-align: right;\n",
       "    }\n",
       "</style>\n",
       "<table border=\"1\" class=\"dataframe\">\n",
       "  <thead>\n",
       "    <tr style=\"text-align: right;\">\n",
       "      <th></th>\n",
       "      <th>file</th>\n",
       "      <th>speaker</th>\n",
       "      <th>id</th>\n",
       "      <th>gender</th>\n",
       "      <th>label</th>\n",
       "    </tr>\n",
       "  </thead>\n",
       "  <tbody>\n",
       "    <tr>\n",
       "      <th>0</th>\n",
       "      <td>fake_voices/Aurea_F036_Fake/1000_fake.wav</td>\n",
       "      <td>Aurea</td>\n",
       "      <td>F036</td>\n",
       "      <td>F</td>\n",
       "      <td>spoof</td>\n",
       "    </tr>\n",
       "    <tr>\n",
       "      <th>1</th>\n",
       "      <td>fake_voices/Aurea_F036_Fake/100_fake.wav</td>\n",
       "      <td>Aurea</td>\n",
       "      <td>F036</td>\n",
       "      <td>F</td>\n",
       "      <td>spoof</td>\n",
       "    </tr>\n",
       "    <tr>\n",
       "      <th>2</th>\n",
       "      <td>fake_voices/Aurea_F036_Fake/101_fake.wav</td>\n",
       "      <td>Aurea</td>\n",
       "      <td>F036</td>\n",
       "      <td>F</td>\n",
       "      <td>spoof</td>\n",
       "    </tr>\n",
       "    <tr>\n",
       "      <th>3</th>\n",
       "      <td>fake_voices/Aurea_F036_Fake/102_fake.wav</td>\n",
       "      <td>Aurea</td>\n",
       "      <td>F036</td>\n",
       "      <td>F</td>\n",
       "      <td>spoof</td>\n",
       "    </tr>\n",
       "    <tr>\n",
       "      <th>4</th>\n",
       "      <td>fake_voices/Aurea_F036_Fake/103_fake.wav</td>\n",
       "      <td>Aurea</td>\n",
       "      <td>F036</td>\n",
       "      <td>F</td>\n",
       "      <td>spoof</td>\n",
       "    </tr>\n",
       "  </tbody>\n",
       "</table>\n",
       "</div>"
      ],
      "text/plain": [
       "                                        file speaker    id gender  label\n",
       "0  fake_voices/Aurea_F036_Fake/1000_fake.wav   Aurea  F036      F  spoof\n",
       "1   fake_voices/Aurea_F036_Fake/100_fake.wav   Aurea  F036      F  spoof\n",
       "2   fake_voices/Aurea_F036_Fake/101_fake.wav   Aurea  F036      F  spoof\n",
       "3   fake_voices/Aurea_F036_Fake/102_fake.wav   Aurea  F036      F  spoof\n",
       "4   fake_voices/Aurea_F036_Fake/103_fake.wav   Aurea  F036      F  spoof"
      ]
     },
     "execution_count": 3,
     "metadata": {},
     "output_type": "execute_result"
    }
   ],
   "source": [
    "validation_metadata_df = pd.read_csv(os.path.join(PATH_TO_DATASET, 'splits', 'by_file', \"files-downstream_val.csv\"))\n",
    "validation_metadata_df.head()"
   ]
  },
  {
   "cell_type": "markdown",
   "metadata": {},
   "source": [
    "### Dataset and dataloader"
   ]
  },
  {
   "cell_type": "code",
   "execution_count": null,
   "metadata": {},
   "outputs": [],
   "source": [
    "from torch.utils.data import Dataset\n",
    "from tqdm import tqdm\n",
    "\n",
    "class AudioDataset(Dataset):\n",
    "    \"\"\"Dataset class from pytorch\n",
    "    \n",
    "    Cache dataset indicates if we want to load the entire dataset preprocessed\n",
    "    on RAM (only works if 32GB memory or higher)\"\"\"\n",
    "    def __init__(self, metadata_df: pd.DataFrame, audio_dir: str, cache_dataset = False):\n",
    "        self.metadata_df = metadata_df\n",
    "        self.audio_dir = audio_dir\n",
    "        \n",
    "        self.metadata_df['label_encoded'] = self.metadata_df['label'].map({\n",
    "            \"bona-fide\": 0,\n",
    "            \"spoof\": 1\n",
    "        })\n",
    "        \n",
    "        self._converter = WaveformToInput()\n",
    "        \n",
    "        self.cache_dataset = cache_dataset\n",
    "        \n",
    "        if cache_dataset:\n",
    "            self.load_all_audios()\n",
    "            \n",
    "            \n",
    "    def load_all_audios(self):\n",
    "        \"\"\"Load and preprocess all audios from the memory\"\"\"\n",
    "        self.audios_cache = []\n",
    "\n",
    "        for filename in tqdm(self.metadata_df['file'], desc=\"Loading audio files\"):\n",
    "            audio_path = os.path.join(self.audio_dir, filename)\n",
    "            self.audios_cache.append(self.load_and_preprocess_audio(audio_path))\n",
    "\n",
    "    def __len__(self):\n",
    "        return len(self.metadata_df)\n",
    "    \n",
    "    def __getitem__(self, idx):\n",
    "        if self.cache_dataset:\n",
    "            return self.audios_cache[idx], self.metadata_df.iloc[idx]['label_encoded']\n",
    "        \n",
    "        # if not cache, load the individual file\n",
    "        row = self.metadata_df.iloc[idx]\n",
    "        # Load audio file\n",
    "        audio_path = os.path.join(self.audio_dir, row['file'])\n",
    "        \n",
    "        return self.load_and_preprocess_audio(audio_path), row['label_encoded']\n",
    "    \n",
    "    \n",
    "    def load_and_preprocess_audio(self, path_to_audio):\n",
    "        \"\"\"Load an audio of the memory and preprocess it to be adequate to YAMNet model,\n",
    "        converting it into a mel spectogram\"\"\"\n",
    "        waveform, sample_rate = torchaudio.load(path_to_audio)\n",
    "        \n",
    "        in_tensor = converter(waveform.float().to('cpu'), sample_rate=sample_rate)\n",
    "    \n",
    "        # we only use the first mel spectogram\n",
    "        return in_tensor[0].unsqueeze(0)\n",
    "    \n",
    "dataset_train = AudioDataset(train_metadata_df, PATH_TO_DATASET, cache_dataset=False)\n",
    "dataset_val = AudioDataset(validation_metadata_df, PATH_TO_DATASET, cache_dataset=False)\n",
    "\n",
    "print(\"Sucess creating datasets\")"
   ]
  },
  {
   "cell_type": "markdown",
   "metadata": {},
   "source": [
    "## Model fine-tuning  <a class=\"anchor\" id=\"part_03\"></a>"
   ]
  },
  {
   "cell_type": "markdown",
   "metadata": {},
   "source": [
    "### Making a simple prediction"
   ]
  },
  {
   "cell_type": "code",
   "execution_count": 20,
   "metadata": {},
   "outputs": [
    {
     "data": {
      "text/plain": [
       "torch.Size([1, 1, 96, 64])"
      ]
     },
     "execution_count": 20,
     "metadata": {},
     "output_type": "execute_result"
    }
   ],
   "source": [
    "# testing in a sample audio\n",
    "sample_audio = train_metadata_df.file.iloc[0]\n",
    "audio_path = os.path.join(PATH_TO_DATASET, sample_audio)\n",
    "\n",
    "waveform = dataset_train.load_and_preprocess_audio(audio_path)\n",
    "waveform.shape"
   ]
  },
  {
   "cell_type": "code",
   "execution_count": null,
   "metadata": {},
   "outputs": [
    {
     "name": "stdout",
     "output_type": "stream",
     "text": [
      "tensor([[[[0.1994]],\n",
      "\n",
      "         [[0.8764]],\n",
      "\n",
      "         [[0.0014]],\n",
      "\n",
      "         ...,\n",
      "\n",
      "         [[0.0000]],\n",
      "\n",
      "         [[0.0634]],\n",
      "\n",
      "         [[0.0000]]]], device='cuda:0')\n",
      "tensor([[  5.6084, -11.2223,  -4.5911,  -2.5769, -30.5669,  -5.5606, -15.2858,\n",
      "         -23.5190, -17.8143, -24.3510, -36.1819, -26.9622, -23.9877, -16.4120,\n",
      "         -37.3396, -31.2471, -25.3460, -35.4965, -19.0958, -20.6494, -25.0385,\n",
      "         -23.4274, -33.2942, -24.7194, -10.1944, -17.1616, -27.7706, -10.6117,\n",
      "         -10.6751, -17.6233, -25.9971, -13.2971, -23.7731, -21.5035, -28.3427,\n",
      "         -21.6181, -18.8132, -37.4282, -22.5331, -26.4204, -36.8559, -32.1319,\n",
      "         -33.0455, -34.8265, -31.2550, -43.8097, -17.8145, -40.8623, -25.8328,\n",
      "         -38.9744, -39.7136, -27.7235, -28.3599, -24.4264, -35.4766, -29.8792,\n",
      "         -27.5832, -32.9911, -31.7779, -23.9280, -28.8766, -24.5684, -22.4332,\n",
      "         -22.9865, -16.6482, -27.8043, -38.4387, -14.7434, -17.7256, -18.9805,\n",
      "         -26.2700, -24.6760, -29.7443, -24.3662, -28.7907, -28.2634, -23.6151,\n",
      "         -29.1978, -26.5265, -25.3244, -36.6458, -17.8760, -23.1686, -21.4126,\n",
      "         -32.8724, -27.6606, -28.1368, -38.1997, -25.7213, -26.9993, -26.3346,\n",
      "         -24.0996, -23.7531, -21.7175, -23.9607, -28.6570, -27.6058, -34.5798,\n",
      "         -34.1218, -25.0427, -27.3967, -24.8379, -28.0025, -17.5400, -28.0033,\n",
      "         -27.8833, -18.1156, -22.3855, -25.4934, -39.5632, -18.5299, -22.8411,\n",
      "         -31.4788, -32.1895, -38.0742, -30.2884, -45.1527, -28.8684, -39.9322,\n",
      "         -46.4823, -48.4079, -25.7393, -33.4019, -30.2793, -30.2011, -31.6506,\n",
      "         -30.2572, -30.5251, -33.4972, -25.8360, -33.9078, -34.6485, -10.9356,\n",
      "         -11.0133, -12.3311, -12.4130, -14.7903, -16.0825, -14.5034, -20.3872,\n",
      "         -20.8677, -14.0442, -22.1237, -27.3410, -20.2313, -26.6790, -17.0269,\n",
      "         -14.2085, -15.9514, -17.4329, -19.5172, -22.8318, -24.1264, -15.5091,\n",
      "         -17.1195, -18.7500, -15.1904, -17.7734, -23.5744, -16.3131, -21.9435,\n",
      "         -22.7286, -27.1288, -19.2829, -25.7063, -25.6915, -20.7936, -22.3595,\n",
      "         -25.8351, -30.9480, -37.1871, -40.1002, -29.0869, -40.4429, -21.9087,\n",
      "         -22.9296, -24.2881, -28.0991, -29.9005, -17.7033, -16.5290, -22.1772,\n",
      "         -19.5833, -21.2592, -13.1923, -22.2639, -14.0057, -17.3831, -16.3278,\n",
      "         -17.6273, -14.2120, -17.6245, -19.4684, -18.0665, -21.9707, -24.1464,\n",
      "         -29.8793, -27.0433, -33.3392, -31.4499, -32.5370, -32.4931, -28.7111,\n",
      "         -17.8123, -20.0391, -23.9369, -20.5724, -28.5101, -30.3350, -30.0306,\n",
      "         -25.5363, -15.4924, -15.3988, -17.6730, -14.6373, -17.6302, -17.3425,\n",
      "         -20.4317, -18.7307, -16.0827, -23.0120, -17.4082, -17.3534, -18.7781,\n",
      "         -13.8621, -23.1627, -17.6614, -19.0205, -20.7569, -19.8801, -16.4401,\n",
      "         -22.6187, -15.2797, -17.7473, -14.2397, -18.4916, -16.7856, -16.0683,\n",
      "         -20.5977, -17.3622, -21.4256, -23.0002, -21.0387, -19.0516, -24.7723,\n",
      "         -21.7470, -16.1032, -17.5854, -17.6717, -13.0049, -18.0951, -21.8674,\n",
      "         -25.1669, -17.1773, -17.6843, -16.2802, -22.2206, -20.1165, -22.7731,\n",
      "         -20.3309, -16.1575, -18.6067, -13.7170, -16.2515, -22.1943, -15.4298,\n",
      "         -14.0474, -22.3795, -19.7938, -19.1395, -25.8309, -21.3992, -20.2583,\n",
      "         -16.1559, -16.3118, -27.2637, -23.8785, -19.0816, -24.2037, -23.7319,\n",
      "         -34.9088, -34.6797, -22.0815, -24.6985, -30.7977, -26.9643, -29.0919,\n",
      "         -36.4469, -28.1370, -31.0818, -32.2835, -27.8696, -27.4553, -33.4450,\n",
      "         -14.5457, -17.9904, -28.0990, -25.3052, -21.2210, -34.1368, -16.1867,\n",
      "         -17.3175, -24.5839, -30.5169, -35.0092, -41.0456, -29.0684, -29.4467,\n",
      "         -22.7742, -21.6830, -20.8613, -33.7610, -29.5757, -38.1141, -32.7995,\n",
      "         -22.0455, -23.7793, -23.5519, -27.5725, -25.6830, -20.7446, -33.2527,\n",
      "         -23.1656, -23.5854, -31.1683, -28.4203, -26.3435, -37.5148, -28.4876,\n",
      "         -23.7191, -31.4788, -36.2530, -33.9139, -26.5470, -28.1557, -23.6210,\n",
      "         -26.3841, -20.1797, -27.4637, -37.6358, -30.7505, -27.6514, -23.5274,\n",
      "         -26.4783, -41.0611, -39.3797, -25.9191, -21.6490, -18.9562, -34.5578,\n",
      "         -36.5349, -35.6615, -34.7289, -35.9216, -18.5712, -41.0172, -38.3314,\n",
      "         -41.4057, -33.3160, -45.1760, -39.3918, -30.7301, -31.1987, -29.2104,\n",
      "         -34.5869, -35.9801, -32.8165, -28.4734, -36.0181, -34.8221, -33.7087,\n",
      "         -28.2915, -36.8255, -43.5606, -49.6693, -45.3036, -29.5970, -47.9773,\n",
      "         -25.0962, -37.9508, -25.6310, -28.4040, -17.9635, -20.7872, -28.0905,\n",
      "         -31.4899, -29.3372, -26.7765, -27.7653, -36.6375, -21.8924, -25.3849,\n",
      "         -30.5262, -31.1751, -28.2367, -31.4947, -28.7759, -29.7011, -21.6844,\n",
      "         -46.2958, -23.3607, -22.3749, -23.2110, -47.7860, -44.2201, -31.6629,\n",
      "         -42.4216, -41.8188, -39.7990, -26.4359, -42.8581, -43.7895, -20.9948,\n",
      "         -41.2974, -41.2362, -36.1303, -38.8930, -33.4769, -29.9732, -35.5509,\n",
      "         -23.1086, -29.4558, -35.5245, -35.1507, -36.5102, -36.3876, -33.6725,\n",
      "         -40.4179, -26.6251, -37.1942, -33.1874, -28.1696, -40.6161, -45.4681,\n",
      "         -45.8642, -32.8010, -40.8811, -39.4493, -21.6689, -36.7847, -39.9194,\n",
      "         -39.4614, -36.0759, -33.0807, -33.3813, -44.9948, -42.1677, -20.3573,\n",
      "         -45.9284, -43.1233, -46.2690, -33.8351, -26.9710, -30.6751, -30.3884,\n",
      "         -37.9697, -21.8336, -17.1442, -28.8577, -25.6386, -39.1083, -34.6022,\n",
      "         -34.8769, -38.0853, -43.2252, -44.1008, -41.3363, -36.7680, -41.6737,\n",
      "         -41.3162, -36.3109, -19.9222, -44.0431, -37.4664, -37.6339, -24.3341,\n",
      "         -27.8749, -30.7227, -40.3277, -41.0466, -42.3290, -24.1991, -46.9396,\n",
      "         -25.1371, -30.4194, -19.9166, -33.1877, -31.0630, -27.0987, -27.8046,\n",
      "         -21.3463, -46.7036, -29.0504, -39.3553, -12.6783, -25.7649, -27.0177,\n",
      "         -35.9502, -13.3359, -44.5215,  -5.0952,  -6.1291, -13.4838,  -9.6956,\n",
      "         -10.4840, -18.4482, -15.8372, -17.1222, -31.7064, -34.1087, -30.1875,\n",
      "         -18.9746, -30.8710, -32.5509, -26.8377, -32.3872, -28.2112, -26.7201,\n",
      "         -15.5024,  -9.6242, -28.9067]], device='cuda:0')\n",
      "Output shape torch.Size([1, 1024, 1, 1]) , Logits shape: torch.Size([1, 521])\n"
     ]
    }
   ],
   "source": [
    "# making a output with the model\n",
    "waveform = waveform.unsqueeze(0).to(device)\n",
    "\n",
    "with torch.no_grad():\n",
    "    model.eval()\n",
    "    output, logits = model(waveform)\n",
    "\n",
    "print(output)\n",
    "print(logits)\n",
    "\n",
    "print(\"Output shape\", output.shape, \", Logits shape:\", logits.shape)"
   ]
  },
  {
   "cell_type": "markdown",
   "metadata": {},
   "source": [
    "### Model architecture adaptation\n",
    "\n",
    "Our adaptation is going to be simple: just change from 521 classes of the original AudioSet dataset to one node, predicting the bonafide probability"
   ]
  },
  {
   "cell_type": "code",
   "execution_count": 11,
   "metadata": {},
   "outputs": [
    {
     "data": {
      "text/plain": [
       "YAMNet(\n",
       "  (layer1): Conv(\n",
       "    (fused): CONV_BN_RELU(\n",
       "      (conv): Conv2d_tf(1, 32, kernel_size=(3, 3), stride=(2, 2), padding=SAME, bias=False)\n",
       "      (bn): BatchNorm2d(32, eps=0.0001, momentum=0.1, affine=True, track_running_stats=True)\n",
       "      (relu): ReLU()\n",
       "    )\n",
       "  )\n",
       "  (layer2): SeparableConv(\n",
       "    (depthwise_conv): CONV_BN_RELU(\n",
       "      (conv): Conv2d_tf(32, 32, kernel_size=(3, 3), stride=(1, 1), padding=SAME, groups=32, bias=False)\n",
       "      (bn): BatchNorm2d(32, eps=0.0001, momentum=0.1, affine=True, track_running_stats=True)\n",
       "      (relu): ReLU()\n",
       "    )\n",
       "    (pointwise_conv): CONV_BN_RELU(\n",
       "      (conv): Conv2d_tf(32, 64, kernel_size=(1, 1), stride=(1, 1), padding=SAME, bias=False)\n",
       "      (bn): BatchNorm2d(64, eps=0.0001, momentum=0.1, affine=True, track_running_stats=True)\n",
       "      (relu): ReLU()\n",
       "    )\n",
       "  )\n",
       "  (layer3): SeparableConv(\n",
       "    (depthwise_conv): CONV_BN_RELU(\n",
       "      (conv): Conv2d_tf(64, 64, kernel_size=(3, 3), stride=(2, 2), padding=SAME, groups=64, bias=False)\n",
       "      (bn): BatchNorm2d(64, eps=0.0001, momentum=0.1, affine=True, track_running_stats=True)\n",
       "      (relu): ReLU()\n",
       "    )\n",
       "    (pointwise_conv): CONV_BN_RELU(\n",
       "      (conv): Conv2d_tf(64, 128, kernel_size=(1, 1), stride=(1, 1), padding=SAME, bias=False)\n",
       "      (bn): BatchNorm2d(128, eps=0.0001, momentum=0.1, affine=True, track_running_stats=True)\n",
       "      (relu): ReLU()\n",
       "    )\n",
       "  )\n",
       "  (layer4): SeparableConv(\n",
       "    (depthwise_conv): CONV_BN_RELU(\n",
       "      (conv): Conv2d_tf(128, 128, kernel_size=(3, 3), stride=(1, 1), padding=SAME, groups=128, bias=False)\n",
       "      (bn): BatchNorm2d(128, eps=0.0001, momentum=0.1, affine=True, track_running_stats=True)\n",
       "      (relu): ReLU()\n",
       "    )\n",
       "    (pointwise_conv): CONV_BN_RELU(\n",
       "      (conv): Conv2d_tf(128, 128, kernel_size=(1, 1), stride=(1, 1), padding=SAME, bias=False)\n",
       "      (bn): BatchNorm2d(128, eps=0.0001, momentum=0.1, affine=True, track_running_stats=True)\n",
       "      (relu): ReLU()\n",
       "    )\n",
       "  )\n",
       "  (layer5): SeparableConv(\n",
       "    (depthwise_conv): CONV_BN_RELU(\n",
       "      (conv): Conv2d_tf(128, 128, kernel_size=(3, 3), stride=(2, 2), padding=SAME, groups=128, bias=False)\n",
       "      (bn): BatchNorm2d(128, eps=0.0001, momentum=0.1, affine=True, track_running_stats=True)\n",
       "      (relu): ReLU()\n",
       "    )\n",
       "    (pointwise_conv): CONV_BN_RELU(\n",
       "      (conv): Conv2d_tf(128, 256, kernel_size=(1, 1), stride=(1, 1), padding=SAME, bias=False)\n",
       "      (bn): BatchNorm2d(256, eps=0.0001, momentum=0.1, affine=True, track_running_stats=True)\n",
       "      (relu): ReLU()\n",
       "    )\n",
       "  )\n",
       "  (layer6): SeparableConv(\n",
       "    (depthwise_conv): CONV_BN_RELU(\n",
       "      (conv): Conv2d_tf(256, 256, kernel_size=(3, 3), stride=(1, 1), padding=SAME, groups=256, bias=False)\n",
       "      (bn): BatchNorm2d(256, eps=0.0001, momentum=0.1, affine=True, track_running_stats=True)\n",
       "      (relu): ReLU()\n",
       "    )\n",
       "    (pointwise_conv): CONV_BN_RELU(\n",
       "      (conv): Conv2d_tf(256, 256, kernel_size=(1, 1), stride=(1, 1), padding=SAME, bias=False)\n",
       "      (bn): BatchNorm2d(256, eps=0.0001, momentum=0.1, affine=True, track_running_stats=True)\n",
       "      (relu): ReLU()\n",
       "    )\n",
       "  )\n",
       "  (layer7): SeparableConv(\n",
       "    (depthwise_conv): CONV_BN_RELU(\n",
       "      (conv): Conv2d_tf(256, 256, kernel_size=(3, 3), stride=(2, 2), padding=SAME, groups=256, bias=False)\n",
       "      (bn): BatchNorm2d(256, eps=0.0001, momentum=0.1, affine=True, track_running_stats=True)\n",
       "      (relu): ReLU()\n",
       "    )\n",
       "    (pointwise_conv): CONV_BN_RELU(\n",
       "      (conv): Conv2d_tf(256, 512, kernel_size=(1, 1), stride=(1, 1), padding=SAME, bias=False)\n",
       "      (bn): BatchNorm2d(512, eps=0.0001, momentum=0.1, affine=True, track_running_stats=True)\n",
       "      (relu): ReLU()\n",
       "    )\n",
       "  )\n",
       "  (layer8): SeparableConv(\n",
       "    (depthwise_conv): CONV_BN_RELU(\n",
       "      (conv): Conv2d_tf(512, 512, kernel_size=(3, 3), stride=(1, 1), padding=SAME, groups=512, bias=False)\n",
       "      (bn): BatchNorm2d(512, eps=0.0001, momentum=0.1, affine=True, track_running_stats=True)\n",
       "      (relu): ReLU()\n",
       "    )\n",
       "    (pointwise_conv): CONV_BN_RELU(\n",
       "      (conv): Conv2d_tf(512, 512, kernel_size=(1, 1), stride=(1, 1), padding=SAME, bias=False)\n",
       "      (bn): BatchNorm2d(512, eps=0.0001, momentum=0.1, affine=True, track_running_stats=True)\n",
       "      (relu): ReLU()\n",
       "    )\n",
       "  )\n",
       "  (layer9): SeparableConv(\n",
       "    (depthwise_conv): CONV_BN_RELU(\n",
       "      (conv): Conv2d_tf(512, 512, kernel_size=(3, 3), stride=(1, 1), padding=SAME, groups=512, bias=False)\n",
       "      (bn): BatchNorm2d(512, eps=0.0001, momentum=0.1, affine=True, track_running_stats=True)\n",
       "      (relu): ReLU()\n",
       "    )\n",
       "    (pointwise_conv): CONV_BN_RELU(\n",
       "      (conv): Conv2d_tf(512, 512, kernel_size=(1, 1), stride=(1, 1), padding=SAME, bias=False)\n",
       "      (bn): BatchNorm2d(512, eps=0.0001, momentum=0.1, affine=True, track_running_stats=True)\n",
       "      (relu): ReLU()\n",
       "    )\n",
       "  )\n",
       "  (layer10): SeparableConv(\n",
       "    (depthwise_conv): CONV_BN_RELU(\n",
       "      (conv): Conv2d_tf(512, 512, kernel_size=(3, 3), stride=(1, 1), padding=SAME, groups=512, bias=False)\n",
       "      (bn): BatchNorm2d(512, eps=0.0001, momentum=0.1, affine=True, track_running_stats=True)\n",
       "      (relu): ReLU()\n",
       "    )\n",
       "    (pointwise_conv): CONV_BN_RELU(\n",
       "      (conv): Conv2d_tf(512, 512, kernel_size=(1, 1), stride=(1, 1), padding=SAME, bias=False)\n",
       "      (bn): BatchNorm2d(512, eps=0.0001, momentum=0.1, affine=True, track_running_stats=True)\n",
       "      (relu): ReLU()\n",
       "    )\n",
       "  )\n",
       "  (layer11): SeparableConv(\n",
       "    (depthwise_conv): CONV_BN_RELU(\n",
       "      (conv): Conv2d_tf(512, 512, kernel_size=(3, 3), stride=(1, 1), padding=SAME, groups=512, bias=False)\n",
       "      (bn): BatchNorm2d(512, eps=0.0001, momentum=0.1, affine=True, track_running_stats=True)\n",
       "      (relu): ReLU()\n",
       "    )\n",
       "    (pointwise_conv): CONV_BN_RELU(\n",
       "      (conv): Conv2d_tf(512, 512, kernel_size=(1, 1), stride=(1, 1), padding=SAME, bias=False)\n",
       "      (bn): BatchNorm2d(512, eps=0.0001, momentum=0.1, affine=True, track_running_stats=True)\n",
       "      (relu): ReLU()\n",
       "    )\n",
       "  )\n",
       "  (layer12): SeparableConv(\n",
       "    (depthwise_conv): CONV_BN_RELU(\n",
       "      (conv): Conv2d_tf(512, 512, kernel_size=(3, 3), stride=(1, 1), padding=SAME, groups=512, bias=False)\n",
       "      (bn): BatchNorm2d(512, eps=0.0001, momentum=0.1, affine=True, track_running_stats=True)\n",
       "      (relu): ReLU()\n",
       "    )\n",
       "    (pointwise_conv): CONV_BN_RELU(\n",
       "      (conv): Conv2d_tf(512, 512, kernel_size=(1, 1), stride=(1, 1), padding=SAME, bias=False)\n",
       "      (bn): BatchNorm2d(512, eps=0.0001, momentum=0.1, affine=True, track_running_stats=True)\n",
       "      (relu): ReLU()\n",
       "    )\n",
       "  )\n",
       "  (layer13): SeparableConv(\n",
       "    (depthwise_conv): CONV_BN_RELU(\n",
       "      (conv): Conv2d_tf(512, 512, kernel_size=(3, 3), stride=(2, 2), padding=SAME, groups=512, bias=False)\n",
       "      (bn): BatchNorm2d(512, eps=0.0001, momentum=0.1, affine=True, track_running_stats=True)\n",
       "      (relu): ReLU()\n",
       "    )\n",
       "    (pointwise_conv): CONV_BN_RELU(\n",
       "      (conv): Conv2d_tf(512, 1024, kernel_size=(1, 1), stride=(1, 1), padding=SAME, bias=False)\n",
       "      (bn): BatchNorm2d(1024, eps=0.0001, momentum=0.1, affine=True, track_running_stats=True)\n",
       "      (relu): ReLU()\n",
       "    )\n",
       "  )\n",
       "  (layer14): SeparableConv(\n",
       "    (depthwise_conv): CONV_BN_RELU(\n",
       "      (conv): Conv2d_tf(1024, 1024, kernel_size=(3, 3), stride=(1, 1), padding=SAME, groups=1024, bias=False)\n",
       "      (bn): BatchNorm2d(1024, eps=0.0001, momentum=0.1, affine=True, track_running_stats=True)\n",
       "      (relu): ReLU()\n",
       "    )\n",
       "    (pointwise_conv): CONV_BN_RELU(\n",
       "      (conv): Conv2d_tf(1024, 1024, kernel_size=(1, 1), stride=(1, 1), padding=SAME, bias=False)\n",
       "      (bn): BatchNorm2d(1024, eps=0.0001, momentum=0.1, affine=True, track_running_stats=True)\n",
       "      (relu): ReLU()\n",
       "    )\n",
       "  )\n",
       "  (classifier): Linear(in_features=1024, out_features=521, bias=True)\n",
       ")"
      ]
     },
     "execution_count": 11,
     "metadata": {},
     "output_type": "execute_result"
    }
   ],
   "source": [
    "model"
   ]
  },
  {
   "cell_type": "code",
   "execution_count": null,
   "metadata": {},
   "outputs": [],
   "source": [
    "# changing the output layer to two classes\n",
    "from torch import nn\n",
    "from torchinfo import summary\n",
    "\n",
    "model.classifier = nn.Linear(in_features=1024, out_features=1)\n",
    "summary(model, input_size=[1, 1, 96, 64])"
   ]
  },
  {
   "cell_type": "markdown",
   "metadata": {},
   "source": [
    "### Model training\n",
    "Let's fine tune our model with the training data, using 10 epochs and a small learning rate.\n",
    "\n",
    "All the weights are trained here (there are no layers frozen)"
   ]
  },
  {
   "cell_type": "code",
   "execution_count": 14,
   "metadata": {},
   "outputs": [],
   "source": [
    "from sklearn.metrics import roc_curve\n",
    "\n",
    "\n",
    "def compute_eer(y_true, y_scores):\n",
    "    \"\"\"\n",
    "    Compute the Equal Error Rate (EER) given true labels and prediction scores.\n",
    "    \n",
    "    Args:\n",
    "        y_true (numpy.ndarray): Ground truth binary labels (0 or 1).\n",
    "        y_scores (numpy.ndarray): Predicted scores (logits or probabilities).\n",
    "\n",
    "    Returns:\n",
    "        eer (float): The Equal Error Rate.\n",
    "        threshold (float): The threshold at which EER is achieved.\n",
    "    \"\"\"\n",
    "    fpr, tpr, thresholds = roc_curve(y_true, y_scores)\n",
    "    fnr = 1 - tpr  # False negative rate is 1 - true positive rate\n",
    "    eer_threshold = thresholds[np.nanargmin(np.abs(fnr - fpr))]\n",
    "    eer = fpr[np.nanargmin(np.abs(fnr - fpr))]\n",
    "    return eer, eer_threshold"
   ]
  },
  {
   "cell_type": "code",
   "execution_count": null,
   "metadata": {},
   "outputs": [
    {
     "name": "stderr",
     "output_type": "stream",
     "text": [
      "                                                             \r"
     ]
    },
    {
     "name": "stdout",
     "output_type": "stream",
     "text": [
      "Epoch [1/10] | Train Loss: 0.0181 | Val Loss: 0.0400 | Val Accuracy: 0.9869 | EER: 0.0070\n"
     ]
    },
    {
     "name": "stderr",
     "output_type": "stream",
     "text": [
      "                                                             \r"
     ]
    },
    {
     "name": "stdout",
     "output_type": "stream",
     "text": [
      "Epoch [2/10] | Train Loss: 0.0039 | Val Loss: 0.0057 | Val Accuracy: 0.9986 | EER: 0.0015\n"
     ]
    },
    {
     "name": "stderr",
     "output_type": "stream",
     "text": [
      "                                                             \r"
     ]
    },
    {
     "name": "stdout",
     "output_type": "stream",
     "text": [
      "Epoch [3/10] | Train Loss: 0.0020 | Val Loss: 0.0234 | Val Accuracy: 0.9946 | EER: 0.0047\n"
     ]
    },
    {
     "name": "stderr",
     "output_type": "stream",
     "text": [
      "                                                             \r"
     ]
    },
    {
     "name": "stdout",
     "output_type": "stream",
     "text": [
      "Epoch [4/10] | Train Loss: 0.0027 | Val Loss: 0.0111 | Val Accuracy: 0.9969 | EER: 0.0027\n"
     ]
    },
    {
     "name": "stderr",
     "output_type": "stream",
     "text": [
      "                                                             \r"
     ]
    },
    {
     "name": "stdout",
     "output_type": "stream",
     "text": [
      "Epoch [5/10] | Train Loss: 0.0015 | Val Loss: 0.0239 | Val Accuracy: 0.9939 | EER: 0.0011\n"
     ]
    },
    {
     "name": "stderr",
     "output_type": "stream",
     "text": [
      "                                                             \r"
     ]
    },
    {
     "name": "stdout",
     "output_type": "stream",
     "text": [
      "Epoch [6/10] | Train Loss: 0.0017 | Val Loss: 0.0177 | Val Accuracy: 0.9922 | EER: 0.0053\n"
     ]
    },
    {
     "name": "stderr",
     "output_type": "stream",
     "text": [
      "                                                             \r"
     ]
    },
    {
     "name": "stdout",
     "output_type": "stream",
     "text": [
      "Epoch [7/10] | Train Loss: 0.0020 | Val Loss: 0.0023 | Val Accuracy: 0.9989 | EER: 0.0010\n"
     ]
    },
    {
     "name": "stderr",
     "output_type": "stream",
     "text": [
      "                                                             \r"
     ]
    },
    {
     "name": "stdout",
     "output_type": "stream",
     "text": [
      "Epoch [8/10] | Train Loss: 0.0000 | Val Loss: 0.0024 | Val Accuracy: 0.9993 | EER: 0.0008\n"
     ]
    },
    {
     "name": "stderr",
     "output_type": "stream",
     "text": [
      "                                                             \r"
     ]
    },
    {
     "name": "stdout",
     "output_type": "stream",
     "text": [
      "Epoch [9/10] | Train Loss: 0.0000 | Val Loss: 0.0085 | Val Accuracy: 0.9979 | EER: 0.0008\n"
     ]
    },
    {
     "name": "stderr",
     "output_type": "stream",
     "text": [
      "                                                              \r"
     ]
    },
    {
     "name": "stdout",
     "output_type": "stream",
     "text": [
      "Epoch [10/10] | Train Loss: 0.0000 | Val Loss: 0.0072 | Val Accuracy: 0.9984 | EER: 0.0010\n"
     ]
    },
    {
     "data": {
      "image/png": "[encoded data removed]",
      "text/plain": [
       "<Figure size 1000x600 with 1 Axes>"
      ]
     },
     "metadata": {},
     "output_type": "display_data"
    },
    {
     "data": {
      "image/png": "[encoded data removed]",
      "text/plain": [
       "<Figure size 1000x600 with 1 Axes>"
      ]
     },
     "metadata": {},
     "output_type": "display_data"
    },
    {
     "name": "stdout",
     "output_type": "stream",
     "text": [
      "Training complete.\n"
     ]
    }
   ],
   "source": [
    "# Adapted from src/train/mlp/train_mlp.py\n",
    "\n",
    "import torch\n",
    "import torch.optim as optim\n",
    "from torch.utils.data import DataLoader\n",
    "import pandas as pd\n",
    "from tqdm import tqdm\n",
    "import matplotlib.pyplot as plt\n",
    "\n",
    "# Hyperparameters\n",
    "num_epochs = 10\n",
    "learning_rate = 3e-4\n",
    "batch_size = BATCH_SIZE\n",
    "patience = 10\n",
    "save_dir = \"/media/elias/ssd1tb/Projects/AUDIOS/models/model_checkpoints\"  # Directory to save models\n",
    "os.makedirs(save_dir, exist_ok=True)\n",
    "\n",
    "train_dataloader = DataLoader(dataset=dataset_train, batch_size=batch_size, shuffle=True)\n",
    "val_dataloader = DataLoader(dataset=dataset_val, batch_size=batch_size, shuffle=False)\n",
    "\n",
    "criterion = nn.BCEWithLogitsLoss()\n",
    "optimizer = optim.Adam(model.parameters(), lr=learning_rate)\n",
    "\n",
    "history = {\n",
    "    \"epoch\": [],\n",
    "    \"train_loss\": [],\n",
    "    \"val_loss\": []\n",
    "}\n",
    "\n",
    "# Training loop\n",
    "train_losses, val_losses, val_accuracies, val_eers = [], [], [], []\n",
    "best_val_loss = float(\"inf\")\n",
    "best_val_eer = float(\"inf\")\n",
    "patience_counter = 0\n",
    "\n",
    "for epoch in range(num_epochs):\n",
    "    model.train()\n",
    "    running_train_loss = 0.0\n",
    "    correct_predictions = 0\n",
    "    total_samples = 0\n",
    "\n",
    "    for batch in tqdm(train_dataloader, desc=f\"Epoch {epoch+1}/{num_epochs}\", leave=False):\n",
    "        inputs, labels = batch[0].to(device), batch[1].float().to(device)\n",
    "        optimizer.zero_grad()\n",
    "        outputs = model(inputs.squeeze(1))\n",
    "        train_loss = criterion(outputs[1].squeeze(1), labels)\n",
    "        train_loss.backward()\n",
    "        optimizer.step()\n",
    "        running_train_loss += train_loss.item()\n",
    "\n",
    "    avg_train_loss = running_train_loss / len(train_dataloader)\n",
    "    train_losses.append(avg_train_loss)\n",
    "\n",
    "    # Validation phase\n",
    "    model.eval()\n",
    "    running_val_loss = 0.0\n",
    "    all_targets = []\n",
    "    all_scores = []\n",
    "    with torch.no_grad():\n",
    "        for batch in val_dataloader:\n",
    "            inputs, labels = batch[0].to(device), batch[1].float().to(device)\n",
    "            outputs = model(inputs.squeeze(1))\n",
    "            val_loss = criterion(outputs[1].squeeze(1), labels)\n",
    "            running_val_loss += val_loss.item()\n",
    "\n",
    "            # Accuracy calculation\n",
    "            predictions = (torch.sigmoid(outputs[1].squeeze(1)) >= 0.5).int()\n",
    "            correct_predictions += (predictions == labels.int()).sum().item()\n",
    "            total_samples += labels.size(0)\n",
    "\n",
    "            # Store true labels and scores for EER computation\n",
    "            all_targets.extend(labels.cpu().numpy())\n",
    "            all_scores.extend(outputs[1].squeeze(1).cpu().numpy())\n",
    "\n",
    "    avg_val_loss = running_val_loss / len(val_dataloader)\n",
    "    val_losses.append(avg_val_loss)\n",
    "\n",
    "    # Compute validation accuracy\n",
    "    val_accuracy = correct_predictions / total_samples\n",
    "    val_accuracies.append(val_accuracy)\n",
    "\n",
    "    # Compute EER (if required)\n",
    "    eer, eer_threshold = compute_eer(np.array(all_targets), np.array(all_scores))\n",
    "    val_eers.append(eer)\n",
    "\n",
    "    if eer < best_val_eer:\n",
    "        best_val_eer = eer\n",
    "\n",
    "    # Save best model based on validation loss\n",
    "    if avg_val_loss < best_val_loss:\n",
    "        best_val_loss = avg_val_loss\n",
    "        patience_counter = 0\n",
    "        torch.save(model.state_dict(), os.path.join(save_dir, \"best_model.pth\"))\n",
    "    else:\n",
    "        patience_counter += 1\n",
    "        if patience_counter >= patience:\n",
    "            print(\"Early stopping triggered.\")\n",
    "            break\n",
    "\n",
    "    # Log results for the current epoch\n",
    "    print(f\"Epoch [{epoch+1}/{num_epochs}] | Train Loss: {avg_train_loss:.4f} | Val Loss: {avg_val_loss:.4f} | \"\n",
    "          f\"Val Accuracy: {val_accuracy:.4f} | EER: {eer:.4f}\")\n",
    "\n",
    "# Save history\n",
    "history = {\n",
    "    \"train_losses\": train_losses,\n",
    "    \"val_losses\": val_losses,\n",
    "    \"val_accuracies\": val_accuracies,\n",
    "    \"val_eers\": val_eers,\n",
    "}\n",
    "np.save(os.path.join(save_dir, \"training_history.npy\"), history)\n",
    "\n",
    "# Plot loss and accuracy curves (optional)\n",
    "plt.figure(figsize=(10, 6))\n",
    "plt.plot(range(1, len(train_losses) + 1), train_losses, label=\"Train Loss\", marker=\"o\")\n",
    "plt.plot(range(1, len(val_losses) + 1), val_losses, label=\"Validation Loss\", marker=\"o\")\n",
    "plt.title(\"Training and Validation Loss\")\n",
    "plt.xlabel(\"Epochs\")\n",
    "plt.ylabel(\"Loss\")\n",
    "plt.legend()\n",
    "plt.grid(True)\n",
    "plt.savefig(os.path.join(save_dir, \"loss_plot.png\"))\n",
    "plt.show()\n",
    "\n",
    "plt.figure(figsize=(10, 6))\n",
    "plt.plot(range(1, len(val_accuracies) + 1), val_accuracies, label=\"Validation Accuracy\", marker=\"o\", color=\"green\")\n",
    "plt.title(\"Validation Accuracy\")\n",
    "plt.xlabel(\"Epochs\")\n",
    "plt.ylabel(\"Accuracy\")\n",
    "plt.legend()\n",
    "plt.grid(True)\n",
    "plt.savefig(os.path.join(save_dir, \"accuracy_plot.png\"))\n",
    "plt.show()\n",
    "\n",
    "print(\"Training complete.\")\n",
    "\n"
   ]
  },
  {
   "cell_type": "markdown",
   "metadata": {},
   "source": [
    "## Model evaluation <a class=\"anchor\" id=\"part_04\"></a>\n",
    "\n",
    "Let's evaluate the model acording to the metrics defined on our planning"
   ]
  },
  {
   "cell_type": "code",
   "execution_count": null,
   "metadata": {},
   "outputs": [
    {
     "name": "stderr",
     "output_type": "stream",
     "text": [
      "                                                               \r"
     ]
    },
    {
     "data": {
      "text/html": [
       "<div>\n",
       "<style scoped>\n",
       "    .dataframe tbody tr th:only-of-type {\n",
       "        vertical-align: middle;\n",
       "    }\n",
       "\n",
       "    .dataframe tbody tr th {\n",
       "        vertical-align: top;\n",
       "    }\n",
       "\n",
       "    .dataframe thead th {\n",
       "        text-align: right;\n",
       "    }\n",
       "</style>\n",
       "<table border=\"1\" class=\"dataframe\">\n",
       "  <thead>\n",
       "    <tr style=\"text-align: right;\">\n",
       "      <th></th>\n",
       "      <th>file</th>\n",
       "      <th>speaker</th>\n",
       "      <th>id</th>\n",
       "      <th>gender</th>\n",
       "      <th>label</th>\n",
       "      <th>label_encoded</th>\n",
       "      <th>predict_proba</th>\n",
       "      <th>prediction</th>\n",
       "      <th>train</th>\n",
       "    </tr>\n",
       "  </thead>\n",
       "  <tbody>\n",
       "    <tr>\n",
       "      <th>0</th>\n",
       "      <td>fake_voices/Alcione_F018_Fake/1000_fake.wav</td>\n",
       "      <td>Alcione</td>\n",
       "      <td>F018</td>\n",
       "      <td>F</td>\n",
       "      <td>spoof</td>\n",
       "      <td>1</td>\n",
       "      <td>0.999995</td>\n",
       "      <td>1</td>\n",
       "      <td>True</td>\n",
       "    </tr>\n",
       "    <tr>\n",
       "      <th>1</th>\n",
       "      <td>fake_voices/Alcione_F018_Fake/100_fake.wav</td>\n",
       "      <td>Alcione</td>\n",
       "      <td>F018</td>\n",
       "      <td>F</td>\n",
       "      <td>spoof</td>\n",
       "      <td>1</td>\n",
       "      <td>0.999995</td>\n",
       "      <td>1</td>\n",
       "      <td>True</td>\n",
       "    </tr>\n",
       "    <tr>\n",
       "      <th>2</th>\n",
       "      <td>fake_voices/Alcione_F018_Fake/101_fake.wav</td>\n",
       "      <td>Alcione</td>\n",
       "      <td>F018</td>\n",
       "      <td>F</td>\n",
       "      <td>spoof</td>\n",
       "      <td>1</td>\n",
       "      <td>0.999995</td>\n",
       "      <td>1</td>\n",
       "      <td>True</td>\n",
       "    </tr>\n",
       "    <tr>\n",
       "      <th>3</th>\n",
       "      <td>fake_voices/Alcione_F018_Fake/102_fake.wav</td>\n",
       "      <td>Alcione</td>\n",
       "      <td>F018</td>\n",
       "      <td>F</td>\n",
       "      <td>spoof</td>\n",
       "      <td>1</td>\n",
       "      <td>0.999995</td>\n",
       "      <td>1</td>\n",
       "      <td>True</td>\n",
       "    </tr>\n",
       "    <tr>\n",
       "      <th>4</th>\n",
       "      <td>fake_voices/Alcione_F018_Fake/103_fake.wav</td>\n",
       "      <td>Alcione</td>\n",
       "      <td>F018</td>\n",
       "      <td>F</td>\n",
       "      <td>spoof</td>\n",
       "      <td>1</td>\n",
       "      <td>0.999994</td>\n",
       "      <td>1</td>\n",
       "      <td>True</td>\n",
       "    </tr>\n",
       "  </tbody>\n",
       "</table>\n",
       "</div>"
      ],
      "text/plain": [
       "                                          file  speaker    id gender  label  \\\n",
       "0  fake_voices/Alcione_F018_Fake/1000_fake.wav  Alcione  F018      F  spoof   \n",
       "1   fake_voices/Alcione_F018_Fake/100_fake.wav  Alcione  F018      F  spoof   \n",
       "2   fake_voices/Alcione_F018_Fake/101_fake.wav  Alcione  F018      F  spoof   \n",
       "3   fake_voices/Alcione_F018_Fake/102_fake.wav  Alcione  F018      F  spoof   \n",
       "4   fake_voices/Alcione_F018_Fake/103_fake.wav  Alcione  F018      F  spoof   \n",
       "\n",
       "   label_encoded  predict_proba  prediction  train  \n",
       "0              1       0.999995           1   True  \n",
       "1              1       0.999995           1   True  \n",
       "2              1       0.999995           1   True  \n",
       "3              1       0.999995           1   True  \n",
       "4              1       0.999994           1   True  "
      ]
     },
     "execution_count": 16,
     "metadata": {},
     "output_type": "execute_result"
    }
   ],
   "source": [
    "def make_predictions(model, metadata_df):\n",
    "    \"\"\"Make the predictions on the given files on metainfo_df\n",
    "    \n",
    "    Return a dataframe with the values of the predictions\"\"\"\n",
    "    output_list = []\n",
    "    dataloader = DataLoader(dataset=AudioDataset(metadata_df, PATH_TO_DATASET), batch_size=BATCH_SIZE)\n",
    "\n",
    "    with torch.no_grad():\n",
    "        model.eval()\n",
    "        for batch in tqdm(dataloader, desc=f\"Inference\", leave=False):\n",
    "            inputs = batch[0]  # (batch_size, channels, length)\n",
    "            labels = batch[1].float()  # Convert labels to float for BCE loss\n",
    "\n",
    "            # Move tensors to GPU if available\n",
    "            inputs, labels = inputs.to(device), labels.to(device)\n",
    "            \n",
    "            outputs = model(inputs.squeeze(1))\n",
    "\n",
    "            output_list.append(torch.sigmoid(outputs[1]).to('cpu').numpy())\n",
    "            \n",
    "    sig = nn.Sigmoid()\n",
    "    metadata_df['predict_proba'] = np.concatenate(output_list)\n",
    "    metadata_df['prediction'] = metadata_df['predict_proba'].round().astype(int)\n",
    "    \n",
    "    return metadata_df\n",
    "\n",
    "train_metadata_df_results = make_predictions(model, train_metadata_df)\n",
    "train_metadata_df_results['train'] = True\n",
    "\n",
    "val_metadata_df_results = make_predictions(model, validation_metadata_df)\n",
    "val_metadata_df_results['train'] = False\n",
    "\n",
    "results_df = pd.concat([train_metadata_df_results, val_metadata_df_results], axis='rows')\n",
    "results_df = results_df.reset_index(drop=True)\n",
    "\n",
    "# standarized way to see the results\n",
    "results_df.head()"
   ]
  },
  {
   "cell_type": "markdown",
   "metadata": {},
   "source": [
    "### Metrics"
   ]
  },
  {
   "cell_type": "code",
   "execution_count": 21,
   "metadata": {},
   "outputs": [
    {
     "name": "stdout",
     "output_type": "stream",
     "text": [
      "Train -\n",
      "  Precision: 1.0000\n",
      "  Recall: 1.0000\n",
      "  Accuracy: 1.0000\n",
      "  F1 Score: 1.0000\n",
      "  EER: 0.0000\n",
      "\n",
      "Validation -\n",
      "  Precision: 0.9967\n",
      "  Recall: 1.0000\n",
      "  Accuracy: 0.9984\n",
      "  F1 Score: 0.9983\n",
      "  EER: 0.0010\n"
     ]
    }
   ],
   "source": [
    "from sklearn.metrics import roc_curve\n",
    "# Split data based on 'train' column\n",
    "train_results = results_df[results_df['train'] == True]\n",
    "non_train_results = results_df[results_df['train'] == False]\n",
    "\n",
    "# Function to calculate TP, FP, FN, TN, Precision, Recall, Accuracy, and F1 Score\n",
    "def calculate_metrics(df):\n",
    "    TP = ((df['label_encoded'] == 1) & (df['prediction'] == 1)).sum()\n",
    "    FP = ((df['label_encoded'] == 0) & (df['prediction'] == 1)).sum()\n",
    "    FN = ((df['label_encoded'] == 1) & (df['prediction'] == 0)).sum()\n",
    "    TN = ((df['label_encoded'] == 0) & (df['prediction'] == 0)).sum()\n",
    "\n",
    "    precision = TP / (TP + FP) if (TP + FP) > 0 else 0\n",
    "    recall = TP / (TP + FN) if (TP + FN) > 0 else 0\n",
    "    accuracy = (TP + TN) / (TP + FP + FN + TN) if (TP + FP + FN + TN) > 0 else 0\n",
    "    f1_score = (2 * precision * recall) / (precision + recall) if (precision + recall) > 0 else 0\n",
    "    \n",
    "    return precision, recall, accuracy, f1_score\n",
    "\n",
    "# Function to calculate EER\n",
    "def calculate_EER(df):\n",
    "    y_true = df['label_encoded']\n",
    "    y_pred = df['predict_proba']\n",
    "    fpr, tpr, thresholds = roc_curve(y_true, y_pred, pos_label=1)\n",
    "    fnr = 1 - tpr\n",
    "    eer = fpr[np.nanargmin(np.absolute(fnr - fpr))]\n",
    "    return eer\n",
    "\n",
    "# Calculate metrics for training entries\n",
    "train_precision, train_recall, train_accuracy, train_f1_score = calculate_metrics(train_results)\n",
    "train_eer = calculate_EER(train_results)\n",
    "\n",
    "# Calculate metrics for non-training (validation) entries\n",
    "val_precision, val_recall, val_accuracy, val_f1_score = calculate_metrics(non_train_results)\n",
    "val_eer = calculate_EER(non_train_results)\n",
    "\n",
    "# Print metrics for training entries\n",
    "print(f\"Train -\")\n",
    "print(f\"  Precision: {train_precision:.4f}\")\n",
    "print(f\"  Recall: {train_recall:.4f}\")\n",
    "print(f\"  Accuracy: {train_accuracy:.4f}\")\n",
    "print(f\"  F1 Score: {train_f1_score:.4f}\")\n",
    "print(f\"  EER: {train_eer:.4f}\")\n",
    "print()\n",
    "\n",
    "# Print metrics for validation entries\n",
    "print(f\"Validation -\")\n",
    "print(f\"  Precision: {val_precision:.4f}\")\n",
    "print(f\"  Recall: {val_recall:.4f}\")\n",
    "print(f\"  Accuracy: {val_accuracy:.4f}\")\n",
    "print(f\"  F1 Score: {val_f1_score:.4f}\")\n",
    "print(f\"  EER: {val_eer:.4f}\")\n"
   ]
  },
  {
   "cell_type": "markdown",
   "metadata": {},
   "source": [
    "### Confusion matrices"
   ]
  },
  {
   "cell_type": "code",
   "execution_count": 22,
   "metadata": {},
   "outputs": [
    {
     "name": "stdout",
     "output_type": "stream",
     "text": [
      "Train Confusion Matrix:\n",
      "          Predicted 0    Predicted 1\n",
      "Actual 0         24998             0\n",
      "Actual 1             0         21395\n",
      "\n",
      "Validation Confusion Matrix:\n",
      "          Predicted 0    Predicted 1\n",
      "Actual 0          7976            24\n",
      "Actual 1             0          7160\n",
      "\n"
     ]
    }
   ],
   "source": [
    "# Function to create and print confusion matrix\n",
    "def print_confusion_matrix(df, set_name):\n",
    "    TP = ((df['label_encoded'] == 1) & (df['prediction'] == 1)).sum()\n",
    "    FP = ((df['label_encoded'] == 0) & (df['prediction'] == 1)).sum()\n",
    "    FN = ((df['label_encoded'] == 1) & (df['prediction'] == 0)).sum()\n",
    "    TN = ((df['label_encoded'] == 0) & (df['prediction'] == 0)).sum()\n",
    "\n",
    "    print(f\"{set_name} Confusion Matrix:\")\n",
    "    print(f\"          Predicted 0    Predicted 1\")\n",
    "    print(f\"Actual 0    {TN:10}    {FP:10}\")\n",
    "    print(f\"Actual 1    {FN:10}    {TP:10}\\n\")\n",
    "\n",
    "# Print confusion matrix for training and validation sets\n",
    "print_confusion_matrix(train_results, \"Train\")\n",
    "print_confusion_matrix(non_train_results, \"Validation\")"
   ]
  },
  {
   "cell_type": "markdown",
   "metadata": {},
   "source": [
    "### Saving the model"
   ]
  },
  {
   "cell_type": "code",
   "execution_count": 19,
   "metadata": {},
   "outputs": [],
   "source": [
    "torch.save(model.state_dict(), '/media/elias/ssd1tb/Projects/AUDIOS/models/baseline_model_state_dict.pth')"
   ]
  }
 ],
 "metadata": {
  "kernelspec": {
   "display_name": "torch",
   "language": "python",
   "name": "python3"
  },
  "language_info": {
   "codemirror_mode": {
    "name": "ipython",
    "version": 3
   },
   "file_extension": ".py",
   "mimetype": "text/x-python",
   "name": "python",
   "nbconvert_exporter": "python",
   "pygments_lexer": "ipython3",
   "version": "3.12.7"
  }
 },
 "nbformat": 4,
 "nbformat_minor": 2
}
