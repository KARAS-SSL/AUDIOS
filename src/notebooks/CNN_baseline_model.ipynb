{
 "cells": [
  {
   "cell_type": "markdown",
   "metadata": {},
   "source": [
    "# <a id='toc1_'></a>[CNN Baseline model](#toc0_)\n",
    "\n",
    "This notebook aims to provide a baseline CNN model for comparison with our auto-supervised approach to the deepfake audio detection.\n",
    "\n",
    "The model choosed was [ConvNeXt-Tiny-AT](https://huggingface.co/topel/ConvNeXt-Tiny-AT). It is a CNN based audio model pretrained on the [AudioSet](http://research.google.com/audioset/index.html) dataset, to classify between 632 audio event classes in a collection of 2,084,320 human-labeled 10-second sound clips drawn from YouTube videos.\n",
    "\n",
    "The model was pretrained on a supervised way, and will be fine-tuned also in a supervised way, to see how it compares with the self-supervised approach."
   ]
  },
  {
   "cell_type": "markdown",
   "metadata": {},
   "source": [
    "## Summary\n",
    "\n",
    "* [Part 1: Notebook setup](#part_01)\n",
    "* [Part 2: Data loading](#part_02)\n",
    "* [Part 3: Model fine tuning](#part_03)\n",
    "* [Part 4: Model evaluation](#part_04)"
   ]
  },
  {
   "cell_type": "markdown",
   "metadata": {},
   "source": [
    "## Notebook setup <a class=\"anchor\" id=\"part_01\"></a>"
   ]
  },
  {
   "cell_type": "code",
   "execution_count": 1,
   "metadata": {},
   "outputs": [
    {
     "name": "stderr",
     "output_type": "stream",
     "text": [
      "/media/elias/ssd1tb/Projects/AUDIOS/.venv/lib/python3.12/site-packages/tqdm/auto.py:21: TqdmWarning: IProgress not found. Please update jupyter and ipywidgets. See https://ipywidgets.readthedocs.io/en/stable/user_install.html\n",
      "  from .autonotebook import tqdm as notebook_tqdm\n"
     ]
    },
    {
     "name": "stdout",
     "output_type": "stream",
     "text": [
      "Using ckpt from HF\n",
      "# params: 28222767\n"
     ]
    }
   ],
   "source": [
    "import os\n",
    "import numpy as np\n",
    "import pandas as pd\n",
    "import torch\n",
    "from torch.nn import functional as TF\n",
    "import torchaudio\n",
    "import torchaudio.functional as TAF\n",
    "import pathlib\n",
    "\n",
    "from audioset_convnext_inf.pytorch.convnext import ConvNeXt\n",
    "from audioset_convnext_inf.utils.utilities import read_audioset_label_tags\n",
    "\n",
    "PATH_TO_DATASET = \"/media/elias/ssd1tb/Projects/AUDIOS/datasets/release\"\n",
    "\n",
    "RANDOM_STATE = 7 # the biblical number of perfection =)\n",
    "\n",
    "model = ConvNeXt.from_pretrained(\"topel/ConvNeXt-Tiny-AT\", map_location='cpu')\n",
    "\n",
    "print(\n",
    "    \"# params:\",\n",
    "    sum(param.numel() for param in model.parameters() if param.requires_grad),\n",
    ")\n",
    "\n",
    "if torch.cuda.is_available():\n",
    "    device = torch.device(\"cuda\")\n",
    "else:\n",
    "    device = torch.device(\"cpu\")\n",
    "\n",
    "if \"cuda\" in str(device):\n",
    "    model = model.to(device)"
   ]
  },
  {
   "cell_type": "markdown",
   "metadata": {},
   "source": [
    "## Data loading  <a class=\"anchor\" id=\"part_02\"></a>"
   ]
  },
  {
   "cell_type": "code",
   "execution_count": 2,
   "metadata": {},
   "outputs": [
    {
     "data": {
      "text/html": [
       "<div>\n",
       "<style scoped>\n",
       "    .dataframe tbody tr th:only-of-type {\n",
       "        vertical-align: middle;\n",
       "    }\n",
       "\n",
       "    .dataframe tbody tr th {\n",
       "        vertical-align: top;\n",
       "    }\n",
       "\n",
       "    .dataframe thead th {\n",
       "        text-align: right;\n",
       "    }\n",
       "</style>\n",
       "<table border=\"1\" class=\"dataframe\">\n",
       "  <thead>\n",
       "    <tr style=\"text-align: right;\">\n",
       "      <th></th>\n",
       "      <th>file</th>\n",
       "      <th>speaker</th>\n",
       "      <th>id</th>\n",
       "      <th>gender</th>\n",
       "      <th>label</th>\n",
       "    </tr>\n",
       "  </thead>\n",
       "  <tbody>\n",
       "    <tr>\n",
       "      <th>0</th>\n",
       "      <td>fake_voices/Alcione_F018_Fake/1000_fake.wav</td>\n",
       "      <td>Alcione</td>\n",
       "      <td>F018</td>\n",
       "      <td>F</td>\n",
       "      <td>spoof</td>\n",
       "    </tr>\n",
       "    <tr>\n",
       "      <th>1</th>\n",
       "      <td>fake_voices/Alcione_F018_Fake/100_fake.wav</td>\n",
       "      <td>Alcione</td>\n",
       "      <td>F018</td>\n",
       "      <td>F</td>\n",
       "      <td>spoof</td>\n",
       "    </tr>\n",
       "    <tr>\n",
       "      <th>2</th>\n",
       "      <td>fake_voices/Alcione_F018_Fake/101_fake.wav</td>\n",
       "      <td>Alcione</td>\n",
       "      <td>F018</td>\n",
       "      <td>F</td>\n",
       "      <td>spoof</td>\n",
       "    </tr>\n",
       "    <tr>\n",
       "      <th>3</th>\n",
       "      <td>fake_voices/Alcione_F018_Fake/102_fake.wav</td>\n",
       "      <td>Alcione</td>\n",
       "      <td>F018</td>\n",
       "      <td>F</td>\n",
       "      <td>spoof</td>\n",
       "    </tr>\n",
       "    <tr>\n",
       "      <th>4</th>\n",
       "      <td>fake_voices/Alcione_F018_Fake/103_fake.wav</td>\n",
       "      <td>Alcione</td>\n",
       "      <td>F018</td>\n",
       "      <td>F</td>\n",
       "      <td>spoof</td>\n",
       "    </tr>\n",
       "  </tbody>\n",
       "</table>\n",
       "</div>"
      ],
      "text/plain": [
       "                                          file  speaker    id gender  label\n",
       "0  fake_voices/Alcione_F018_Fake/1000_fake.wav  Alcione  F018      F  spoof\n",
       "1   fake_voices/Alcione_F018_Fake/100_fake.wav  Alcione  F018      F  spoof\n",
       "2   fake_voices/Alcione_F018_Fake/101_fake.wav  Alcione  F018      F  spoof\n",
       "3   fake_voices/Alcione_F018_Fake/102_fake.wav  Alcione  F018      F  spoof\n",
       "4   fake_voices/Alcione_F018_Fake/103_fake.wav  Alcione  F018      F  spoof"
      ]
     },
     "execution_count": 2,
     "metadata": {},
     "output_type": "execute_result"
    }
   ],
   "source": [
    "train_metadata_df = pd.read_csv(os.path.join(PATH_TO_DATASET, 'splits', 'by_file', \"files-downstream_train.csv\"))\n",
    "train_metadata_df.head()"
   ]
  },
  {
   "cell_type": "code",
   "execution_count": 3,
   "metadata": {},
   "outputs": [
    {
     "data": {
      "text/html": [
       "<div>\n",
       "<style scoped>\n",
       "    .dataframe tbody tr th:only-of-type {\n",
       "        vertical-align: middle;\n",
       "    }\n",
       "\n",
       "    .dataframe tbody tr th {\n",
       "        vertical-align: top;\n",
       "    }\n",
       "\n",
       "    .dataframe thead th {\n",
       "        text-align: right;\n",
       "    }\n",
       "</style>\n",
       "<table border=\"1\" class=\"dataframe\">\n",
       "  <thead>\n",
       "    <tr style=\"text-align: right;\">\n",
       "      <th></th>\n",
       "      <th>file</th>\n",
       "      <th>speaker</th>\n",
       "      <th>id</th>\n",
       "      <th>gender</th>\n",
       "      <th>label</th>\n",
       "    </tr>\n",
       "  </thead>\n",
       "  <tbody>\n",
       "    <tr>\n",
       "      <th>0</th>\n",
       "      <td>fake_voices/Aurea_F036_Fake/1000_fake.wav</td>\n",
       "      <td>Aurea</td>\n",
       "      <td>F036</td>\n",
       "      <td>F</td>\n",
       "      <td>spoof</td>\n",
       "    </tr>\n",
       "    <tr>\n",
       "      <th>1</th>\n",
       "      <td>fake_voices/Aurea_F036_Fake/100_fake.wav</td>\n",
       "      <td>Aurea</td>\n",
       "      <td>F036</td>\n",
       "      <td>F</td>\n",
       "      <td>spoof</td>\n",
       "    </tr>\n",
       "    <tr>\n",
       "      <th>2</th>\n",
       "      <td>fake_voices/Aurea_F036_Fake/101_fake.wav</td>\n",
       "      <td>Aurea</td>\n",
       "      <td>F036</td>\n",
       "      <td>F</td>\n",
       "      <td>spoof</td>\n",
       "    </tr>\n",
       "    <tr>\n",
       "      <th>3</th>\n",
       "      <td>fake_voices/Aurea_F036_Fake/102_fake.wav</td>\n",
       "      <td>Aurea</td>\n",
       "      <td>F036</td>\n",
       "      <td>F</td>\n",
       "      <td>spoof</td>\n",
       "    </tr>\n",
       "    <tr>\n",
       "      <th>4</th>\n",
       "      <td>fake_voices/Aurea_F036_Fake/103_fake.wav</td>\n",
       "      <td>Aurea</td>\n",
       "      <td>F036</td>\n",
       "      <td>F</td>\n",
       "      <td>spoof</td>\n",
       "    </tr>\n",
       "  </tbody>\n",
       "</table>\n",
       "</div>"
      ],
      "text/plain": [
       "                                        file speaker    id gender  label\n",
       "0  fake_voices/Aurea_F036_Fake/1000_fake.wav   Aurea  F036      F  spoof\n",
       "1   fake_voices/Aurea_F036_Fake/100_fake.wav   Aurea  F036      F  spoof\n",
       "2   fake_voices/Aurea_F036_Fake/101_fake.wav   Aurea  F036      F  spoof\n",
       "3   fake_voices/Aurea_F036_Fake/102_fake.wav   Aurea  F036      F  spoof\n",
       "4   fake_voices/Aurea_F036_Fake/103_fake.wav   Aurea  F036      F  spoof"
      ]
     },
     "execution_count": 3,
     "metadata": {},
     "output_type": "execute_result"
    }
   ],
   "source": [
    "validation_metadata_df = pd.read_csv(os.path.join(PATH_TO_DATASET, 'splits', 'by_file', \"files-downstream_val.csv\"))\n",
    "validation_metadata_df.head()"
   ]
  },
  {
   "cell_type": "code",
   "execution_count": 4,
   "metadata": {},
   "outputs": [
    {
     "name": "stderr",
     "output_type": "stream",
     "text": [
      "/tmp/ipykernel_6711/2212215524.py:3: DeprecationWarning: DataFrameGroupBy.apply operated on the grouping columns. This behavior is deprecated, and in a future version of pandas the grouping columns will be excluded from the operation. Either pass `include_groups=False` to exclude the groupings or explicitly select the grouping columns after groupby to silence this warning.\n",
      "  train_metadata_df = train_metadata_df.groupby('speaker', group_keys=False).apply(lambda x: x.sample(n=sampling, random_state=7))\n",
      "/tmp/ipykernel_6711/2212215524.py:4: DeprecationWarning: DataFrameGroupBy.apply operated on the grouping columns. This behavior is deprecated, and in a future version of pandas the grouping columns will be excluded from the operation. Either pass `include_groups=False` to exclude the groupings or explicitly select the grouping columns after groupby to silence this warning.\n",
      "  validation_metadata_df = validation_metadata_df.groupby('speaker', group_keys=False).apply(lambda x: x.sample(n=sampling, random_state=7))\n"
     ]
    }
   ],
   "source": [
    "# subsampling\n",
    "sampling = 500\n",
    "train_metadata_df = train_metadata_df.groupby('speaker', group_keys=False).apply(lambda x: x.sample(n=sampling, random_state=7))\n",
    "validation_metadata_df = validation_metadata_df.groupby('speaker', group_keys=False).apply(lambda x: x.sample(n=sampling, random_state=7))"
   ]
  },
  {
   "cell_type": "markdown",
   "metadata": {},
   "source": [
    "### Dataset and dataloader"
   ]
  },
  {
   "cell_type": "code",
   "execution_count": 5,
   "metadata": {},
   "outputs": [],
   "source": [
    "from torch.utils.data import Dataset\n",
    "from tqdm import tqdm\n",
    "\n",
    "class AudioDataset(Dataset):\n",
    "    \"\"\"Dataset class from pytorch\n",
    "    \n",
    "    Cache dataset indicates if we want to load the entire dataset preprocessed\n",
    "    on RAM (only works if 32GB memory or higher)\"\"\"\n",
    "    def __init__(self, metadata_df: pd.DataFrame, audio_dir: str, cache_dataset = False):\n",
    "        self.metadata_df = metadata_df\n",
    "        self.audio_dir = audio_dir\n",
    "        \n",
    "        self.metadata_df['label_encoded'] = self.metadata_df['label'].map({\n",
    "            \"bona-fide\": 0,\n",
    "            \"spoof\": 1\n",
    "        })\n",
    "        \n",
    "        self.cache_dataset = cache_dataset\n",
    "        \n",
    "        if cache_dataset:\n",
    "            self.load_all_audios()\n",
    "            \n",
    "            \n",
    "    def load_all_audios(self):\n",
    "        \"\"\"Load and preprocess all audios from the memory\"\"\"\n",
    "        self.audios_cache = []\n",
    "\n",
    "        for filename in tqdm(self.metadata_df['file'], desc=\"Loading audio files\"):\n",
    "            audio_path = os.path.join(self.audio_dir, filename)\n",
    "            self.audios_cache.append(self.load_and_preprocess_audio(audio_path))\n",
    "\n",
    "    def __len__(self):\n",
    "        return len(self.metadata_df)\n",
    "    \n",
    "    def __getitem__(self, idx):\n",
    "        if self.cache_dataset:\n",
    "            return self.audios_cache[idx], self.metadata_df.iloc[idx]['label_encoded']\n",
    "        \n",
    "        # if not cache, load the individual file\n",
    "        row = self.metadata_df.iloc[idx]\n",
    "        # Load audio file\n",
    "        audio_path = os.path.join(self.audio_dir, row['file'])\n",
    "        \n",
    "        return self.load_and_preprocess_audio(audio_path), row['label_encoded']\n",
    "    \n",
    "    \n",
    "    def load_and_preprocess_audio(self,path_to_audio, sample_rate = 32000, target_seconds_length = 10):\n",
    "        \"\"\"Load an audio of the memory and preprocess it to be adequate to ConvNeXt model\"\"\"\n",
    "        audio_target_length = target_seconds_length * sample_rate  # 10 s\n",
    "\n",
    "        waveform, sample_rate_ = torchaudio.load(path_to_audio)\n",
    "        if sample_rate_ != sample_rate:\n",
    "            waveform = TAF.resample(\n",
    "                waveform,\n",
    "                sample_rate_,\n",
    "                sample_rate,\n",
    "                )\n",
    "\n",
    "        if waveform.shape[-1] < audio_target_length:\n",
    "            # padding waveform\n",
    "            missing = max(audio_target_length - waveform.shape[-1], 0)\n",
    "            waveform = TF.pad(waveform, (0,missing), mode=\"constant\", value=0.0)\n",
    "        elif waveform.shape[-1] > audio_target_length:\n",
    "            # cropping waveform\n",
    "            waveform = waveform[:, :audio_target_length]\n",
    "\n",
    "        waveform = waveform.contiguous()\n",
    "        \n",
    "        return waveform\n",
    "    \n",
    "dataset_train = AudioDataset(train_metadata_df, PATH_TO_DATASET, cache_dataset=False)\n",
    "dataset_val = AudioDataset(validation_metadata_df, PATH_TO_DATASET, cache_dataset=False)"
   ]
  },
  {
   "cell_type": "markdown",
   "metadata": {},
   "source": [
    "## Model fine-tuning  <a class=\"anchor\" id=\"part_03\"></a>"
   ]
  },
  {
   "cell_type": "markdown",
   "metadata": {},
   "source": [
    "### Making a simple prediction"
   ]
  },
  {
   "cell_type": "code",
   "execution_count": 6,
   "metadata": {},
   "outputs": [],
   "source": [
    "def load_and_preprocess_audio(path_to_audio, sample_rate = 32000, target_seconds_length = 10):\n",
    "    \"\"\"Load an audio of the memory and preprocess it to be adequate to ConvNeXt model\"\"\"\n",
    "    audio_target_length = target_seconds_length * sample_rate  # 10 s\n",
    "\n",
    "    waveform, sample_rate_ = torchaudio.load(path_to_audio)\n",
    "    if sample_rate_ != sample_rate:\n",
    "        print(\"Resampling from %d to 32000 Hz\"%sample_rate_)\n",
    "        waveform = TAF.resample(\n",
    "            waveform,\n",
    "            sample_rate_,\n",
    "            sample_rate,\n",
    "            )\n",
    "\n",
    "    if waveform.shape[-1] < audio_target_length:\n",
    "        # padding waveform\n",
    "        missing = max(audio_target_length - waveform.shape[-1], 0)\n",
    "        waveform = TF.pad(waveform, (0,missing), mode=\"constant\", value=0.0)\n",
    "    elif waveform.shape[-1] > audio_target_length:\n",
    "        # cropping waveform\n",
    "        waveform = waveform[:, :audio_target_length]\n",
    "\n",
    "    waveform = waveform.contiguous()\n",
    "    \n",
    "    return waveform"
   ]
  },
  {
   "cell_type": "code",
   "execution_count": 7,
   "metadata": {},
   "outputs": [
    {
     "data": {
      "text/html": [
       "<div>\n",
       "<style scoped>\n",
       "    .dataframe tbody tr th:only-of-type {\n",
       "        vertical-align: middle;\n",
       "    }\n",
       "\n",
       "    .dataframe tbody tr th {\n",
       "        vertical-align: top;\n",
       "    }\n",
       "\n",
       "    .dataframe thead th {\n",
       "        text-align: right;\n",
       "    }\n",
       "</style>\n",
       "<table border=\"1\" class=\"dataframe\">\n",
       "  <thead>\n",
       "    <tr style=\"text-align: right;\">\n",
       "      <th></th>\n",
       "      <th>file</th>\n",
       "      <th>speaker</th>\n",
       "      <th>id</th>\n",
       "      <th>gender</th>\n",
       "      <th>label</th>\n",
       "      <th>label_encoded</th>\n",
       "    </tr>\n",
       "  </thead>\n",
       "  <tbody>\n",
       "    <tr>\n",
       "      <th>21467</th>\n",
       "      <td>real_voices/Alcione_F018/F018-0072.wav</td>\n",
       "      <td>Alcione</td>\n",
       "      <td>F018</td>\n",
       "      <td>F</td>\n",
       "      <td>bona-fide</td>\n",
       "      <td>0</td>\n",
       "    </tr>\n",
       "    <tr>\n",
       "      <th>21443</th>\n",
       "      <td>real_voices/Alcione_F018/F018-0048.wav</td>\n",
       "      <td>Alcione</td>\n",
       "      <td>F018</td>\n",
       "      <td>F</td>\n",
       "      <td>bona-fide</td>\n",
       "      <td>0</td>\n",
       "    </tr>\n",
       "    <tr>\n",
       "      <th>204</th>\n",
       "      <td>fake_voices/Alcione_F018_Fake/284_fake.wav</td>\n",
       "      <td>Alcione</td>\n",
       "      <td>F018</td>\n",
       "      <td>F</td>\n",
       "      <td>spoof</td>\n",
       "      <td>1</td>\n",
       "    </tr>\n",
       "    <tr>\n",
       "      <th>694</th>\n",
       "      <td>fake_voices/Alcione_F018_Fake/725_fake.wav</td>\n",
       "      <td>Alcione</td>\n",
       "      <td>F018</td>\n",
       "      <td>F</td>\n",
       "      <td>spoof</td>\n",
       "      <td>1</td>\n",
       "    </tr>\n",
       "    <tr>\n",
       "      <th>22153</th>\n",
       "      <td>real_voices/Alcione_F018/F018-0758.wav</td>\n",
       "      <td>Alcione</td>\n",
       "      <td>F018</td>\n",
       "      <td>F</td>\n",
       "      <td>bona-fide</td>\n",
       "      <td>0</td>\n",
       "    </tr>\n",
       "    <tr>\n",
       "      <th>...</th>\n",
       "      <td>...</td>\n",
       "      <td>...</td>\n",
       "      <td>...</td>\n",
       "      <td>...</td>\n",
       "      <td>...</td>\n",
       "      <td>...</td>\n",
       "    </tr>\n",
       "    <tr>\n",
       "      <th>21151</th>\n",
       "      <td>fake_voices/Tulio_M027_Fake/781_fake.wav</td>\n",
       "      <td>Tulio</td>\n",
       "      <td>M027</td>\n",
       "      <td>M</td>\n",
       "      <td>spoof</td>\n",
       "      <td>1</td>\n",
       "    </tr>\n",
       "    <tr>\n",
       "      <th>21014</th>\n",
       "      <td>fake_voices/Tulio_M027_Fake/658_fake.wav</td>\n",
       "      <td>Tulio</td>\n",
       "      <td>M027</td>\n",
       "      <td>M</td>\n",
       "      <td>spoof</td>\n",
       "      <td>1</td>\n",
       "    </tr>\n",
       "    <tr>\n",
       "      <th>21152</th>\n",
       "      <td>fake_voices/Tulio_M027_Fake/782_fake.wav</td>\n",
       "      <td>Tulio</td>\n",
       "      <td>M027</td>\n",
       "      <td>M</td>\n",
       "      <td>spoof</td>\n",
       "      <td>1</td>\n",
       "    </tr>\n",
       "    <tr>\n",
       "      <th>46360</th>\n",
       "      <td>real_voices/Tulio_M027/M027-0967.wav</td>\n",
       "      <td>Tulio</td>\n",
       "      <td>M027</td>\n",
       "      <td>M</td>\n",
       "      <td>bona-fide</td>\n",
       "      <td>0</td>\n",
       "    </tr>\n",
       "    <tr>\n",
       "      <th>45858</th>\n",
       "      <td>real_voices/Tulio_M027/M027-0465.wav</td>\n",
       "      <td>Tulio</td>\n",
       "      <td>M027</td>\n",
       "      <td>M</td>\n",
       "      <td>bona-fide</td>\n",
       "      <td>0</td>\n",
       "    </tr>\n",
       "  </tbody>\n",
       "</table>\n",
       "<p>12000 rows × 6 columns</p>\n",
       "</div>"
      ],
      "text/plain": [
       "                                             file  speaker    id gender  \\\n",
       "21467      real_voices/Alcione_F018/F018-0072.wav  Alcione  F018      F   \n",
       "21443      real_voices/Alcione_F018/F018-0048.wav  Alcione  F018      F   \n",
       "204    fake_voices/Alcione_F018_Fake/284_fake.wav  Alcione  F018      F   \n",
       "694    fake_voices/Alcione_F018_Fake/725_fake.wav  Alcione  F018      F   \n",
       "22153      real_voices/Alcione_F018/F018-0758.wav  Alcione  F018      F   \n",
       "...                                           ...      ...   ...    ...   \n",
       "21151    fake_voices/Tulio_M027_Fake/781_fake.wav    Tulio  M027      M   \n",
       "21014    fake_voices/Tulio_M027_Fake/658_fake.wav    Tulio  M027      M   \n",
       "21152    fake_voices/Tulio_M027_Fake/782_fake.wav    Tulio  M027      M   \n",
       "46360        real_voices/Tulio_M027/M027-0967.wav    Tulio  M027      M   \n",
       "45858        real_voices/Tulio_M027/M027-0465.wav    Tulio  M027      M   \n",
       "\n",
       "           label  label_encoded  \n",
       "21467  bona-fide              0  \n",
       "21443  bona-fide              0  \n",
       "204        spoof              1  \n",
       "694        spoof              1  \n",
       "22153  bona-fide              0  \n",
       "...          ...            ...  \n",
       "21151      spoof              1  \n",
       "21014      spoof              1  \n",
       "21152      spoof              1  \n",
       "46360  bona-fide              0  \n",
       "45858  bona-fide              0  \n",
       "\n",
       "[12000 rows x 6 columns]"
      ]
     },
     "execution_count": 7,
     "metadata": {},
     "output_type": "execute_result"
    }
   ],
   "source": [
    "train_metadata_df"
   ]
  },
  {
   "cell_type": "code",
   "execution_count": 8,
   "metadata": {},
   "outputs": [
    {
     "name": "stdout",
     "output_type": "stream",
     "text": [
      "Resampling from 16000 to 32000 Hz\n"
     ]
    },
    {
     "data": {
      "text/plain": [
       "[<matplotlib.lines.Line2D at 0x76a2f9966ea0>]"
      ]
     },
     "execution_count": 8,
     "metadata": {},
     "output_type": "execute_result"
    },
    {
     "data": {
      "image/png": "[encoded data removed]",
      "text/plain": [
       "<Figure size 640x480 with 1 Axes>"
      ]
     },
     "metadata": {},
     "output_type": "display_data"
    }
   ],
   "source": [
    "import matplotlib.pyplot as plt\n",
    "\n",
    "sample_audio = train_metadata_df.file.iloc[0]\n",
    "audio_path = os.path.join(PATH_TO_DATASET, sample_audio)\n",
    "\n",
    "waveform = load_and_preprocess_audio(audio_path)\n",
    "\n",
    "# seeing a waveform\n",
    "plt.plot(waveform[0])"
   ]
  },
  {
   "cell_type": "code",
   "execution_count": 9,
   "metadata": {},
   "outputs": [
    {
     "name": "stdout",
     "output_type": "stream",
     "text": [
      "logits size: torch.Size([1, 527])\n",
      "probs size: torch.Size([1, 527])\n",
      "\n",
      "Predicted labels using activity threshold 0.25:\n",
      "    Speech: 0.864\n",
      "    Male speech, man speaking: 0.140\n",
      "    Conversation: 0.115\n",
      "    Narration, monologue: 0.282\n",
      "    Speech synthesizer: 0.548\n"
     ]
    }
   ],
   "source": [
    "# making a output\n",
    "waveform = waveform.to(device)\n",
    "\n",
    "with torch.no_grad():\n",
    "    model.eval()\n",
    "    output = model(waveform)\n",
    "\n",
    "logits = output[\"clipwise_logits\"]\n",
    "print(\"logits size:\", logits.size())\n",
    "\n",
    "probs = output[\"clipwise_output\"]\n",
    "# Equivalent: probs = torch.sigmoid(logits)\n",
    "print(\"probs size:\", probs.size())\n",
    "\n",
    "lb_to_ix, ix_to_lb, id_to_ix, ix_to_id = read_audioset_label_tags('/media/elias/ssd1tb/Projects/AUDIOS/src/notebooks/labels_audioset.csv')\n",
    "\n",
    "threshold = 0.1\n",
    "sample_labels = np.where(probs[0].clone().detach().cpu() > threshold)[0]\n",
    "print(\"\\nPredicted labels using activity threshold 0.25:\")\n",
    "\n",
    "for l in sample_labels:\n",
    "    print(\"    %s: %.3f\"%(ix_to_lb[l], probs[0,l]))"
   ]
  },
  {
   "cell_type": "markdown",
   "metadata": {},
   "source": [
    "### Model architecture adaptation\n",
    "\n",
    "Our adapdatation is going to be simple: just change from 527 classes of the original AudioSet dataset to two nodes, predicting the spoof and bonafide probability"
   ]
  },
  {
   "cell_type": "code",
   "execution_count": 10,
   "metadata": {},
   "outputs": [
    {
     "data": {
      "text/plain": [
       "==========================================================================================\n",
       "Layer (type:depth-idx)                   Output Shape              Param #\n",
       "==========================================================================================\n",
       "ConvNeXt                                 [1, 527]                  --\n",
       "├─Spectrogram: 1-1                       [1, 1, 1001, 513]         --\n",
       "│    └─STFT: 2-1                         --                        --\n",
       "│    │    └─Conv1d: 3-1                  [1, 513, 1001]            (525,312)\n",
       "│    │    └─Conv1d: 3-2                  [1, 513, 1001]            (525,312)\n",
       "├─LogmelFilterBank: 1-2                  [1, 1, 1001, 224]         (114,912)\n",
       "├─BatchNorm2d: 1-3                       [1, 224, 1001, 1]         448\n",
       "├─ModuleList: 1-10                       --                        (recursive)\n",
       "│    └─Sequential: 2-2                   [1, 96, 252, 56]          --\n",
       "│    │    └─Conv2d: 3-3                  [1, 96, 252, 56]          1,632\n",
       "│    │    └─LayerNorm: 3-4               [1, 96, 252, 56]          192\n",
       "├─ModuleList: 1-11                       --                        (recursive)\n",
       "│    └─Sequential: 2-3                   [1, 96, 252, 56]          --\n",
       "│    │    └─Block: 3-5                   [1, 96, 252, 56]          79,296\n",
       "│    │    └─Block: 3-6                   [1, 96, 252, 56]          79,296\n",
       "│    │    └─Block: 3-7                   [1, 96, 252, 56]          79,296\n",
       "├─ModuleList: 1-10                       --                        (recursive)\n",
       "│    └─Sequential: 2-4                   [1, 192, 126, 28]         --\n",
       "│    │    └─LayerNorm: 3-8               [1, 96, 252, 56]          192\n",
       "│    │    └─Conv2d: 3-9                  [1, 192, 126, 28]         73,920\n",
       "├─ModuleList: 1-11                       --                        (recursive)\n",
       "│    └─Sequential: 2-5                   [1, 192, 126, 28]         --\n",
       "│    │    └─Block: 3-10                  [1, 192, 126, 28]         306,048\n",
       "│    │    └─Block: 3-11                  [1, 192, 126, 28]         306,048\n",
       "│    │    └─Block: 3-12                  [1, 192, 126, 28]         306,048\n",
       "├─ModuleList: 1-10                       --                        (recursive)\n",
       "│    └─Sequential: 2-6                   [1, 384, 63, 14]          --\n",
       "│    │    └─LayerNorm: 3-13              [1, 192, 126, 28]         384\n",
       "│    │    └─Conv2d: 3-14                 [1, 384, 63, 14]          295,296\n",
       "├─ModuleList: 1-11                       --                        (recursive)\n",
       "│    └─Sequential: 2-7                   [1, 384, 63, 14]          --\n",
       "│    │    └─Block: 3-15                  [1, 384, 63, 14]          1,201,920\n",
       "│    │    └─Block: 3-16                  [1, 384, 63, 14]          1,201,920\n",
       "│    │    └─Block: 3-17                  [1, 384, 63, 14]          1,201,920\n",
       "│    │    └─Block: 3-18                  [1, 384, 63, 14]          1,201,920\n",
       "│    │    └─Block: 3-19                  [1, 384, 63, 14]          1,201,920\n",
       "│    │    └─Block: 3-20                  [1, 384, 63, 14]          1,201,920\n",
       "│    │    └─Block: 3-21                  [1, 384, 63, 14]          1,201,920\n",
       "│    │    └─Block: 3-22                  [1, 384, 63, 14]          1,201,920\n",
       "│    │    └─Block: 3-23                  [1, 384, 63, 14]          1,201,920\n",
       "├─ModuleList: 1-10                       --                        (recursive)\n",
       "│    └─Sequential: 2-8                   [1, 768, 31, 7]           --\n",
       "│    │    └─LayerNorm: 3-24              [1, 384, 63, 14]          768\n",
       "│    │    └─Conv2d: 3-25                 [1, 768, 31, 7]           1,180,416\n",
       "├─ModuleList: 1-11                       --                        (recursive)\n",
       "│    └─Sequential: 2-9                   [1, 768, 31, 7]           --\n",
       "│    │    └─Block: 3-26                  [1, 768, 31, 7]           4,763,136\n",
       "│    │    └─Block: 3-27                  [1, 768, 31, 7]           4,763,136\n",
       "│    │    └─Block: 3-28                  [1, 768, 31, 7]           4,763,136\n",
       "├─LayerNorm: 1-12                        [1, 768]                  1,536\n",
       "├─Linear: 1-13                           [1, 527]                  405,263\n",
       "==========================================================================================\n",
       "Total params: 29,388,303\n",
       "Trainable params: 28,222,767\n",
       "Non-trainable params: 1,165,536\n",
       "Total mult-adds (Units.GIGABYTES): 2.36\n",
       "==========================================================================================\n",
       "Input size (MB): 1.28\n",
       "Forward/backward pass size (MB): 602.01\n",
       "Params size (MB): 117.53\n",
       "Estimated Total Size (MB): 720.82\n",
       "=========================================================================================="
      ]
     },
     "execution_count": 10,
     "metadata": {},
     "output_type": "execute_result"
    }
   ],
   "source": [
    "from torchinfo import summary\n",
    "\n",
    "summary(model, input_size=(1, 320000))"
   ]
  },
  {
   "cell_type": "code",
   "execution_count": 11,
   "metadata": {},
   "outputs": [
    {
     "data": {
      "text/plain": [
       "Linear(in_features=768, out_features=527, bias=True)"
      ]
     },
     "execution_count": 11,
     "metadata": {},
     "output_type": "execute_result"
    }
   ],
   "source": [
    "model.head_audioset"
   ]
  },
  {
   "cell_type": "code",
   "execution_count": 12,
   "metadata": {},
   "outputs": [],
   "source": [
    "# changing the output layer to two classes\n",
    "from torch import nn\n",
    "model.head_audioset = nn.Linear(in_features=768, out_features=1).to(device)"
   ]
  },
  {
   "cell_type": "markdown",
   "metadata": {},
   "source": [
    "### Model training\n",
    "Let's fine tune our model with the training data, using 10 epochs and a small learning rate.\n",
    "\n",
    "All the weights are trained here (there are no layers frozen)"
   ]
  },
  {
   "cell_type": "code",
   "execution_count": 13,
   "metadata": {},
   "outputs": [
    {
     "name": "stderr",
     "output_type": "stream",
     "text": [
      "                                                              \r"
     ]
    },
    {
     "name": "stdout",
     "output_type": "stream",
     "text": [
      "Model saved to /media/elias/ssd1tb/Projects/AUDIOS/models/model_checkpoints/model_epoch_1.pt\n",
      "Epoch [1/3], Train Loss: 0.0089, Validation Loss: 0.0001\n"
     ]
    },
    {
     "name": "stderr",
     "output_type": "stream",
     "text": [
      "                                                              \r"
     ]
    },
    {
     "name": "stdout",
     "output_type": "stream",
     "text": [
      "Model saved to /media/elias/ssd1tb/Projects/AUDIOS/models/model_checkpoints/model_epoch_2.pt\n",
      "Epoch [2/3], Train Loss: 0.0034, Validation Loss: 0.0011\n"
     ]
    },
    {
     "name": "stderr",
     "output_type": "stream",
     "text": [
      "                                                              \r"
     ]
    },
    {
     "name": "stdout",
     "output_type": "stream",
     "text": [
      "Model saved to /media/elias/ssd1tb/Projects/AUDIOS/models/model_checkpoints/model_epoch_3.pt\n",
      "Epoch [3/3], Train Loss: 0.0001, Validation Loss: 0.0000\n",
      "Training complete.\n"
     ]
    }
   ],
   "source": [
    "import torch\n",
    "import torch.optim as optim\n",
    "from torch.utils.data import DataLoader\n",
    "import pandas as pd\n",
    "from tqdm import tqdm\n",
    "\n",
    "# Hyperparameters\n",
    "num_epochs = 3\n",
    "learning_rate = 3e-4\n",
    "batch_size = 8\n",
    "save_dir = \"/media/elias/ssd1tb/Projects/AUDIOS/models/model_checkpoints\"  # Directory to save models\n",
    "os.makedirs(save_dir, exist_ok=True)\n",
    "\n",
    "train_dataloader = DataLoader(dataset=dataset_train, batch_size=batch_size, shuffle=True)\n",
    "val_dataloader = DataLoader(dataset=dataset_val, batch_size=batch_size, shuffle=False)\n",
    "\n",
    "criterion = nn.BCEWithLogitsLoss()\n",
    "optimizer = optim.Adam(model.parameters(), lr=learning_rate)\n",
    "\n",
    "history = {\n",
    "    \"epoch\": [],\n",
    "    \"train_loss\": [],\n",
    "    \"val_loss\": []\n",
    "}\n",
    "\n",
    "# Training loop\n",
    "for epoch in range(num_epochs):\n",
    "    model.train()\n",
    "    running_train_loss = 0.0\n",
    "\n",
    "    for batch in tqdm(train_dataloader, desc=f\"Epoch {epoch+1}/{num_epochs}\", leave=False):\n",
    "        inputs, labels = batch[0].to(device), batch[1].float().to(device)\n",
    "        optimizer.zero_grad()\n",
    "        outputs = model(inputs.squeeze(1))\n",
    "        train_loss = criterion(outputs['clipwise_logits'].squeeze(1), labels)\n",
    "        train_loss.backward()\n",
    "        optimizer.step()\n",
    "        running_train_loss += train_loss.item()\n",
    "\n",
    "    avg_train_loss = running_train_loss / len(train_dataloader)\n",
    "\n",
    "    # Validation phase\n",
    "    model.eval()\n",
    "    running_val_loss = 0.0\n",
    "    with torch.no_grad():\n",
    "        for batch in val_dataloader:\n",
    "            inputs, labels = batch[0].to(device), batch[1].float().to(device)\n",
    "            outputs = model(inputs.squeeze(1))\n",
    "            val_loss = criterion(outputs['clipwise_logits'].squeeze(1), labels)\n",
    "            running_val_loss += val_loss.item()\n",
    "\n",
    "    avg_val_loss = running_val_loss / len(val_dataloader)\n",
    "\n",
    "    # Store losses\n",
    "    history[\"epoch\"].append(epoch + 1)\n",
    "    history[\"train_loss\"].append(avg_train_loss)\n",
    "    history[\"val_loss\"].append(avg_val_loss)\n",
    "\n",
    "    # Save the model\n",
    "    model_save_path = os.path.join(save_dir, f\"model_epoch_{epoch+1}.pt\")\n",
    "    torch.save(model.state_dict(), model_save_path)\n",
    "    print(f\"Model saved to {model_save_path}\")\n",
    "\n",
    "    print(f\"Epoch [{epoch+1}/{num_epochs}], Train Loss: {avg_train_loss:.4f}, Validation Loss: {avg_val_loss:.4f}\")\n",
    "\n",
    "loss_history_df = pd.DataFrame(history)\n",
    "print(\"Training complete.\")\n"
   ]
  },
  {
   "cell_type": "code",
   "execution_count": 14,
   "metadata": {},
   "outputs": [
    {
     "data": {
      "image/png": "[encoded data removed]",
      "text/plain": [
       "<Figure size 1000x500 with 1 Axes>"
      ]
     },
     "metadata": {},
     "output_type": "display_data"
    }
   ],
   "source": [
    "# Plot training and validation loss\n",
    "plt.figure(figsize=(10, 5))\n",
    "plt.plot(loss_history_df[\"epoch\"], loss_history_df[\"train_loss\"], label=\"Train Loss\")\n",
    "plt.plot(loss_history_df[\"epoch\"], loss_history_df[\"val_loss\"], label=\"Validation Loss\")\n",
    "plt.xlabel(\"Epoch\")\n",
    "plt.ylabel(\"Loss\")\n",
    "plt.title(\"Training and Validation Loss\")\n",
    "plt.legend()\n",
    "plt.show()"
   ]
  },
  {
   "cell_type": "markdown",
   "metadata": {},
   "source": [
    "## Model evaluation <a class=\"anchor\" id=\"part_04\"></a>\n",
    "\n",
    "Let's evaluate the model acording to the metrics defined on our planning"
   ]
  },
  {
   "cell_type": "code",
   "execution_count": 15,
   "metadata": {},
   "outputs": [
    {
     "name": "stderr",
     "output_type": "stream",
     "text": [
      "                                                              \r"
     ]
    },
    {
     "data": {
      "text/html": [
       "<div>\n",
       "<style scoped>\n",
       "    .dataframe tbody tr th:only-of-type {\n",
       "        vertical-align: middle;\n",
       "    }\n",
       "\n",
       "    .dataframe tbody tr th {\n",
       "        vertical-align: top;\n",
       "    }\n",
       "\n",
       "    .dataframe thead th {\n",
       "        text-align: right;\n",
       "    }\n",
       "</style>\n",
       "<table border=\"1\" class=\"dataframe\">\n",
       "  <thead>\n",
       "    <tr style=\"text-align: right;\">\n",
       "      <th></th>\n",
       "      <th>file</th>\n",
       "      <th>speaker</th>\n",
       "      <th>id</th>\n",
       "      <th>gender</th>\n",
       "      <th>label</th>\n",
       "      <th>label_encoded</th>\n",
       "      <th>predict_proba</th>\n",
       "      <th>prediction</th>\n",
       "      <th>train</th>\n",
       "    </tr>\n",
       "  </thead>\n",
       "  <tbody>\n",
       "    <tr>\n",
       "      <th>0</th>\n",
       "      <td>real_voices/Alcione_F018/F018-0072.wav</td>\n",
       "      <td>Alcione</td>\n",
       "      <td>F018</td>\n",
       "      <td>F</td>\n",
       "      <td>bona-fide</td>\n",
       "      <td>0</td>\n",
       "      <td>0.000026</td>\n",
       "      <td>0</td>\n",
       "      <td>True</td>\n",
       "    </tr>\n",
       "    <tr>\n",
       "      <th>1</th>\n",
       "      <td>real_voices/Alcione_F018/F018-0048.wav</td>\n",
       "      <td>Alcione</td>\n",
       "      <td>F018</td>\n",
       "      <td>F</td>\n",
       "      <td>bona-fide</td>\n",
       "      <td>0</td>\n",
       "      <td>0.000026</td>\n",
       "      <td>0</td>\n",
       "      <td>True</td>\n",
       "    </tr>\n",
       "    <tr>\n",
       "      <th>2</th>\n",
       "      <td>fake_voices/Alcione_F018_Fake/284_fake.wav</td>\n",
       "      <td>Alcione</td>\n",
       "      <td>F018</td>\n",
       "      <td>F</td>\n",
       "      <td>spoof</td>\n",
       "      <td>1</td>\n",
       "      <td>0.999973</td>\n",
       "      <td>1</td>\n",
       "      <td>True</td>\n",
       "    </tr>\n",
       "    <tr>\n",
       "      <th>3</th>\n",
       "      <td>fake_voices/Alcione_F018_Fake/725_fake.wav</td>\n",
       "      <td>Alcione</td>\n",
       "      <td>F018</td>\n",
       "      <td>F</td>\n",
       "      <td>spoof</td>\n",
       "      <td>1</td>\n",
       "      <td>0.999972</td>\n",
       "      <td>1</td>\n",
       "      <td>True</td>\n",
       "    </tr>\n",
       "    <tr>\n",
       "      <th>4</th>\n",
       "      <td>real_voices/Alcione_F018/F018-0758.wav</td>\n",
       "      <td>Alcione</td>\n",
       "      <td>F018</td>\n",
       "      <td>F</td>\n",
       "      <td>bona-fide</td>\n",
       "      <td>0</td>\n",
       "      <td>0.000027</td>\n",
       "      <td>0</td>\n",
       "      <td>True</td>\n",
       "    </tr>\n",
       "  </tbody>\n",
       "</table>\n",
       "</div>"
      ],
      "text/plain": [
       "                                         file  speaker    id gender  \\\n",
       "0      real_voices/Alcione_F018/F018-0072.wav  Alcione  F018      F   \n",
       "1      real_voices/Alcione_F018/F018-0048.wav  Alcione  F018      F   \n",
       "2  fake_voices/Alcione_F018_Fake/284_fake.wav  Alcione  F018      F   \n",
       "3  fake_voices/Alcione_F018_Fake/725_fake.wav  Alcione  F018      F   \n",
       "4      real_voices/Alcione_F018/F018-0758.wav  Alcione  F018      F   \n",
       "\n",
       "       label  label_encoded  predict_proba  prediction  train  \n",
       "0  bona-fide              0       0.000026           0   True  \n",
       "1  bona-fide              0       0.000026           0   True  \n",
       "2      spoof              1       0.999973           1   True  \n",
       "3      spoof              1       0.999972           1   True  \n",
       "4  bona-fide              0       0.000027           0   True  "
      ]
     },
     "execution_count": 15,
     "metadata": {},
     "output_type": "execute_result"
    }
   ],
   "source": [
    "def make_predictions(model, metadata_df):\n",
    "    \"\"\"Make the predictions on the given files on metainfo_df\n",
    "    \n",
    "    Return a dataframe with the values of the predictions\"\"\"\n",
    "    output_list = []\n",
    "    dataloader = DataLoader(dataset=AudioDataset(metadata_df, PATH_TO_DATASET), batch_size=8)\n",
    "\n",
    "    with torch.no_grad():\n",
    "        model.eval()\n",
    "        for batch in tqdm(dataloader, desc=f\"Inference\", leave=False):\n",
    "            inputs = batch[0]  # (batch_size, channels, length)\n",
    "            labels = batch[1].float()  # Convert labels to float for BCE loss\n",
    "\n",
    "            # Move tensors to GPU if available\n",
    "            inputs, labels = inputs.to(device), labels.to(device)\n",
    "            \n",
    "            outputs = model(inputs.squeeze(1))\n",
    "\n",
    "            output_list.append(outputs['clipwise_output'].to('cpu').numpy())\n",
    "            \n",
    "    metadata_df['predict_proba'] = np.concatenate(output_list)\n",
    "    metadata_df['prediction'] = metadata_df['predict_proba'].round().astype(int)\n",
    "    \n",
    "    return metadata_df\n",
    "\n",
    "train_metadata_df_results = make_predictions(model, train_metadata_df)\n",
    "train_metadata_df_results['train'] = True\n",
    "\n",
    "val_metadata_df_results = make_predictions(model, validation_metadata_df)\n",
    "val_metadata_df_results['train'] = False\n",
    "\n",
    "results_df = pd.concat([train_metadata_df_results, val_metadata_df_results], axis='rows')\n",
    "results_df = results_df.reset_index(drop=True)\n",
    "\n",
    "# standarized way to see the results\n",
    "results_df.head()"
   ]
  },
  {
   "cell_type": "markdown",
   "metadata": {},
   "source": [
    "### Metrics"
   ]
  },
  {
   "cell_type": "code",
   "execution_count": 16,
   "metadata": {},
   "outputs": [
    {
     "name": "stdout",
     "output_type": "stream",
     "text": [
      "Train -\n",
      "  Precision: 1.0000\n",
      "  Recall: 1.0000\n",
      "  Accuracy: 1.0000\n",
      "  F1 Score: 1.0000\n",
      "  EER: 0.0000\n",
      "\n",
      "Validation -\n",
      "  Precision: 1.0000\n",
      "  Recall: 1.0000\n",
      "  Accuracy: 1.0000\n",
      "  F1 Score: 1.0000\n",
      "  EER: 0.0000\n"
     ]
    }
   ],
   "source": [
    "from sklearn.metrics import roc_curve\n",
    "# Split data based on 'train' column\n",
    "train_results = results_df[results_df['train'] == True]\n",
    "non_train_results = results_df[results_df['train'] == False]\n",
    "\n",
    "# Function to calculate TP, FP, FN, TN, Precision, Recall, Accuracy, and F1 Score\n",
    "def calculate_metrics(df):\n",
    "    TP = ((df['label_encoded'] == 1) & (df['prediction'] == 1)).sum()\n",
    "    FP = ((df['label_encoded'] == 0) & (df['prediction'] == 1)).sum()\n",
    "    FN = ((df['label_encoded'] == 1) & (df['prediction'] == 0)).sum()\n",
    "    TN = ((df['label_encoded'] == 0) & (df['prediction'] == 0)).sum()\n",
    "\n",
    "    precision = TP / (TP + FP) if (TP + FP) > 0 else 0\n",
    "    recall = TP / (TP + FN) if (TP + FN) > 0 else 0\n",
    "    accuracy = (TP + TN) / (TP + FP + FN + TN) if (TP + FP + FN + TN) > 0 else 0\n",
    "    f1_score = (2 * precision * recall) / (precision + recall) if (precision + recall) > 0 else 0\n",
    "    \n",
    "    return precision, recall, accuracy, f1_score\n",
    "\n",
    "# Function to calculate EER\n",
    "def calculate_EER(df):\n",
    "    y_true = df['label_encoded']\n",
    "    y_pred = df['predict_proba']\n",
    "    fpr, tpr, thresholds = roc_curve(y_true, y_pred, pos_label=1)\n",
    "    fnr = 1 - tpr\n",
    "    eer = fpr[np.nanargmin(np.absolute(fnr - fpr))]\n",
    "    return eer\n",
    "\n",
    "# Calculate metrics for training entries\n",
    "train_precision, train_recall, train_accuracy, train_f1_score = calculate_metrics(train_results)\n",
    "train_eer = calculate_EER(train_results)\n",
    "\n",
    "# Calculate metrics for non-training (validation) entries\n",
    "val_precision, val_recall, val_accuracy, val_f1_score = calculate_metrics(non_train_results)\n",
    "val_eer = calculate_EER(non_train_results)\n",
    "\n",
    "# Print metrics for training entries\n",
    "print(f\"Train -\")\n",
    "print(f\"  Precision: {train_precision:.4f}\")\n",
    "print(f\"  Recall: {train_recall:.4f}\")\n",
    "print(f\"  Accuracy: {train_accuracy:.4f}\")\n",
    "print(f\"  F1 Score: {train_f1_score:.4f}\")\n",
    "print(f\"  EER: {train_eer:.4f}\")\n",
    "print()\n",
    "\n",
    "# Print metrics for validation entries\n",
    "print(f\"Validation -\")\n",
    "print(f\"  Precision: {val_precision:.4f}\")\n",
    "print(f\"  Recall: {val_recall:.4f}\")\n",
    "print(f\"  Accuracy: {val_accuracy:.4f}\")\n",
    "print(f\"  F1 Score: {val_f1_score:.4f}\")\n",
    "print(f\"  EER: {val_eer:.4f}\")\n"
   ]
  },
  {
   "cell_type": "markdown",
   "metadata": {},
   "source": [
    "### Confusion matrices"
   ]
  },
  {
   "cell_type": "code",
   "execution_count": 17,
   "metadata": {},
   "outputs": [
    {
     "name": "stdout",
     "output_type": "stream",
     "text": [
      "Train Confusion Matrix:\n",
      "          Predicted 0    Predicted 1\n",
      "Actual 0          6308             0\n",
      "Actual 1             0          5692\n",
      "\n",
      "Validation Confusion Matrix:\n",
      "          Predicted 0    Predicted 1\n",
      "Actual 0          2057             0\n",
      "Actual 1             0          1943\n",
      "\n"
     ]
    }
   ],
   "source": [
    "# Function to create and print confusion matrix\n",
    "def print_confusion_matrix(df, set_name):\n",
    "    TP = ((df['label_encoded'] == 1) & (df['prediction'] == 1)).sum()\n",
    "    FP = ((df['label_encoded'] == 0) & (df['prediction'] == 1)).sum()\n",
    "    FN = ((df['label_encoded'] == 1) & (df['prediction'] == 0)).sum()\n",
    "    TN = ((df['label_encoded'] == 0) & (df['prediction'] == 0)).sum()\n",
    "\n",
    "    print(f\"{set_name} Confusion Matrix:\")\n",
    "    print(f\"          Predicted 0    Predicted 1\")\n",
    "    print(f\"Actual 0    {TN:10}    {FP:10}\")\n",
    "    print(f\"Actual 1    {FN:10}    {TP:10}\\n\")\n",
    "\n",
    "# Print confusion matrix for training and validation sets\n",
    "print_confusion_matrix(train_results, \"Train\")\n",
    "print_confusion_matrix(non_train_results, \"Validation\")"
   ]
  },
  {
   "cell_type": "markdown",
   "metadata": {},
   "source": [
    "### Saving the model"
   ]
  },
  {
   "cell_type": "code",
   "execution_count": 18,
   "metadata": {},
   "outputs": [],
   "source": [
    "torch.save(model.state_dict(), '/media/elias/ssd1tb/Projects/AUDIOS/models/baseline_model_state_dict.pth')"
   ]
  }
 ],
 "metadata": {
  "kernelspec": {
   "display_name": ".venv",
   "language": "python",
   "name": "python3"
  },
  "language_info": {
   "codemirror_mode": {
    "name": "ipython",
    "version": 3
   },
   "file_extension": ".py",
   "mimetype": "text/x-python",
   "name": "python",
   "nbconvert_exporter": "python",
   "pygments_lexer": "ipython3",
   "version": "3.12.2"
  }
 },
 "nbformat": 4,
 "nbformat_minor": 2
}
