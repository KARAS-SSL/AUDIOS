{
 "cells": [
  {
   "cell_type": "markdown",
   "metadata": {},
   "source": [
    "### Configuração do notebook"
   ]
  },
  {
   "cell_type": "code",
   "execution_count": 120,
   "metadata": {},
   "outputs": [],
   "source": [
    "import os\n",
    "\n",
    "PATH_TO_DATASET = \"/home/lozavival/Documents/AUDIOS-Dataset\"\n",
    "\n",
    "fake_audios_path = os.path.join(PATH_TO_DATASET, \"fake_voices\")\n",
    "real_audios_path = os.path.join(PATH_TO_DATASET, \"real_voices\")"
   ]
  },
  {
   "cell_type": "markdown",
   "metadata": {},
   "source": [
    "### Dicionário 1 - Listagem por Pessoa"
   ]
  },
  {
   "cell_type": "code",
   "execution_count": null,
   "metadata": {},
   "outputs": [],
   "source": [
    "people = {}\n",
    "\n",
    "# For every spoofed folder, get the number of spoofed files\n",
    "for folder in os.listdir(fake_audios_path):\n",
    "    path = os.path.join(fake_audios_path, folder)\n",
    "    files = os.listdir(path)\n",
    "    \n",
    "    person, ids, *_ = folder.split(\"_\")\n",
    "    gender = ids[0]\n",
    "\n",
    "    people[person] = {\n",
    "        \"gender\": gender,\n",
    "        \"id\": ids,\n",
    "        \"spoof_count\": len(files),\n",
    "    }\n",
    "\n",
    "# For every bonafide folder, get the number of bonafide files\n",
    "for folder in os.listdir(real_audios_path):\n",
    "    path = os.path.join(real_audios_path, folder)\n",
    "    files = os.listdir(path)\n",
    "    \n",
    "    person, ids, *_ = folder.split(\"_\")\n",
    "    gender = ids[0]\n",
    "\n",
    "    if people.get(person) is not None:\n",
    "        people[person][\"bonafide_count\"] = len(files)\n",
    "    else:\n",
    "        # If the person is not in the dictionary, it means there are no spoof files\n",
    "        people[person] = {\n",
    "            \"gender\": gender,\n",
    "            \"id\": ids,\n",
    "            \"spoof_count\": 0,\n",
    "            \"bonafide_count\": len(files),\n",
    "        }\n",
    "\n",
    "print(len(people))\n",
    "print(list(people.items())[:5])"
   ]
  },
  {
   "cell_type": "markdown",
   "metadata": {},
   "source": [
    "### Dicionário 2 - Listagem por Arquivo"
   ]
  },
  {
   "cell_type": "code",
   "execution_count": 121,
   "metadata": {},
   "outputs": [
    {
     "name": "stdout",
     "output_type": "stream",
     "text": [
      "179814\n",
      "[['fake_voices/Paula_F026_Fake/590_fake.wav', 'Paula', 'F026', 'F', 'spoof'], ['fake_voices/Paula_F026_Fake/337_fake.wav', 'Paula', 'F026', 'F', 'spoof'], ['fake_voices/Paula_F026_Fake/469_fake.wav', 'Paula', 'F026', 'F', 'spoof'], ['fake_voices/Paula_F026_Fake/664_fake.wav', 'Paula', 'F026', 'F', 'spoof'], ['fake_voices/Paula_F026_Fake/72_fake.wav', 'Paula', 'F026', 'F', 'spoof']]\n"
     ]
    }
   ],
   "source": [
    "all_files = []\n",
    "\n",
    "for folder in os.listdir(fake_audios_path):\n",
    "    path = os.path.join(fake_audios_path, folder)\n",
    "    folder_files = os.listdir(path)\n",
    "    \n",
    "    person, ids, *_ = folder.split(\"_\")\n",
    "    gender = ids[0]\n",
    "    for file in folder_files:\n",
    "        file_path = os.path.join(\"fake_voices\", folder, file)\n",
    "        all_files.append([file_path, person, ids, gender, \"spoof\"])\n",
    "\n",
    "for folder in os.listdir(real_audios_path):\n",
    "    path = os.path.join(real_audios_path, folder)\n",
    "    folder_files = os.listdir(path)\n",
    "    \n",
    "    person, ids, *_ = folder.split(\"_\")\n",
    "    gender = ids[0]\n",
    "    for file in folder_files:\n",
    "        file_path = os.path.join(\"real_voices\", folder, file)\n",
    "        all_files.append([file_path, person, ids, gender, \"bona-fide\"])\n",
    "\n",
    "print(len(all_files))\n",
    "print(all_files[:5])"
   ]
  },
  {
   "cell_type": "markdown",
   "metadata": {},
   "source": [
    "### Exporta Dicionário 1 para csv"
   ]
  },
  {
   "cell_type": "code",
   "execution_count": null,
   "metadata": {},
   "outputs": [],
   "source": [
    "import csv\n",
    "\n",
    "fields = [\"person\", \"gender\", \"id\", \"spoof_count\", \"bonafide_count\"]\n",
    "with open(os.path.join(PATH_TO_DATASET, \"meta.csv\"), \"w\") as f:\n",
    "    writer = csv.writer(f)\n",
    "    writer.writerow(fields)\n",
    "    for person, data in people.items():\n",
    "        writer.writerow([person, data[\"gender\"], data[\"id\"], data[\"spoof_count\"], data[\"bonafide_count\"]])\n",
    "print(\"File written!\")"
   ]
  },
  {
   "cell_type": "markdown",
   "metadata": {},
   "source": [
    "### Exporta Dicionário 2 para csv"
   ]
  },
  {
   "cell_type": "code",
   "execution_count": 122,
   "metadata": {},
   "outputs": [
    {
     "name": "stdout",
     "output_type": "stream",
     "text": [
      "File written!\n"
     ]
    }
   ],
   "source": [
    "import csv\n",
    "\n",
    "fields = [\"file\", \"speaker\", \"id\", \"gender\", \"label\"]\n",
    "with open(os.path.join(PATH_TO_DATASET, \"meta.csv\"), \"w\") as f:\n",
    "    writer = csv.writer(f)\n",
    "    writer.writerow(fields)\n",
    "    writer.writerows(all_files)\n",
    "print(\"File written!\")"
   ]
  },
  {
   "cell_type": "markdown",
   "metadata": {},
   "source": [
    "### Exploração dos Dados"
   ]
  },
  {
   "cell_type": "code",
   "execution_count": 123,
   "metadata": {},
   "outputs": [
    {
     "data": {
      "text/plain": [
       "['meta.csv']"
      ]
     },
     "execution_count": 123,
     "metadata": {},
     "output_type": "execute_result"
    }
   ],
   "source": [
    "[x for x in os.listdir(PATH_TO_DATASET) if x.endswith('.csv')]"
   ]
  },
  {
   "cell_type": "code",
   "execution_count": 124,
   "metadata": {},
   "outputs": [
    {
     "data": {
      "text/html": [
       "<div>\n",
       "<style scoped>\n",
       "    .dataframe tbody tr th:only-of-type {\n",
       "        vertical-align: middle;\n",
       "    }\n",
       "\n",
       "    .dataframe tbody tr th {\n",
       "        vertical-align: top;\n",
       "    }\n",
       "\n",
       "    .dataframe thead th {\n",
       "        text-align: right;\n",
       "    }\n",
       "</style>\n",
       "<table border=\"1\" class=\"dataframe\">\n",
       "  <thead>\n",
       "    <tr style=\"text-align: right;\">\n",
       "      <th></th>\n",
       "      <th>file</th>\n",
       "      <th>speaker</th>\n",
       "      <th>id</th>\n",
       "      <th>gender</th>\n",
       "      <th>label</th>\n",
       "    </tr>\n",
       "  </thead>\n",
       "  <tbody>\n",
       "    <tr>\n",
       "      <th>0</th>\n",
       "      <td>fake_voices/Paula_F026_Fake/590_fake.wav</td>\n",
       "      <td>Paula</td>\n",
       "      <td>F026</td>\n",
       "      <td>F</td>\n",
       "      <td>spoof</td>\n",
       "    </tr>\n",
       "    <tr>\n",
       "      <th>1</th>\n",
       "      <td>fake_voices/Paula_F026_Fake/337_fake.wav</td>\n",
       "      <td>Paula</td>\n",
       "      <td>F026</td>\n",
       "      <td>F</td>\n",
       "      <td>spoof</td>\n",
       "    </tr>\n",
       "    <tr>\n",
       "      <th>2</th>\n",
       "      <td>fake_voices/Paula_F026_Fake/469_fake.wav</td>\n",
       "      <td>Paula</td>\n",
       "      <td>F026</td>\n",
       "      <td>F</td>\n",
       "      <td>spoof</td>\n",
       "    </tr>\n",
       "    <tr>\n",
       "      <th>3</th>\n",
       "      <td>fake_voices/Paula_F026_Fake/664_fake.wav</td>\n",
       "      <td>Paula</td>\n",
       "      <td>F026</td>\n",
       "      <td>F</td>\n",
       "      <td>spoof</td>\n",
       "    </tr>\n",
       "    <tr>\n",
       "      <th>4</th>\n",
       "      <td>fake_voices/Paula_F026_Fake/72_fake.wav</td>\n",
       "      <td>Paula</td>\n",
       "      <td>F026</td>\n",
       "      <td>F</td>\n",
       "      <td>spoof</td>\n",
       "    </tr>\n",
       "  </tbody>\n",
       "</table>\n",
       "</div>"
      ],
      "text/plain": [
       "                                       file speaker    id gender  label\n",
       "0  fake_voices/Paula_F026_Fake/590_fake.wav   Paula  F026      F  spoof\n",
       "1  fake_voices/Paula_F026_Fake/337_fake.wav   Paula  F026      F  spoof\n",
       "2  fake_voices/Paula_F026_Fake/469_fake.wav   Paula  F026      F  spoof\n",
       "3  fake_voices/Paula_F026_Fake/664_fake.wav   Paula  F026      F  spoof\n",
       "4   fake_voices/Paula_F026_Fake/72_fake.wav   Paula  F026      F  spoof"
      ]
     },
     "execution_count": 124,
     "metadata": {},
     "output_type": "execute_result"
    }
   ],
   "source": [
    "import pandas as pd\n",
    "\n",
    "dataset_metadata_df = pd.read_csv(os.path.join(PATH_TO_DATASET, 'meta.csv'), keep_default_na=False)\n",
    "dataset_metadata_df.head()"
   ]
  },
  {
   "cell_type": "code",
   "execution_count": 125,
   "metadata": {},
   "outputs": [
    {
     "name": "stdout",
     "output_type": "stream",
     "text": [
      "duration of calculations done\n"
     ]
    }
   ],
   "source": [
    "# load the durations of each audio\n",
    "import librosa\n",
    "\n",
    "# Function to get the duration\n",
    "def get_duration(filename):\n",
    "    try:\n",
    "        audio_path = os.path.join(PATH_TO_DATASET, filename)\n",
    "        y, sr = librosa.load(audio_path, sr=None)\n",
    "        return librosa.get_duration(y=y, sr=sr)\n",
    "    except Exception as e:\n",
    "        print(f\"Could not load file {filename}: {e}\")\n",
    "        return None\n",
    "\n",
    "# Apply the function to get durations and add them as a new column\n",
    "dataset_metadata_df['duration'] = dataset_metadata_df['file'].apply(get_duration)\n",
    "print(\"duration of calculations done\")"
   ]
  },
  {
   "cell_type": "code",
   "execution_count": 126,
   "metadata": {},
   "outputs": [
    {
     "name": "stdout",
     "output_type": "stream",
     "text": [
      "total audio clips: 179814\n",
      "mean duration of audio clips (seconds): 4.916401206478175\n",
      "N speakers: 101\n",
      "Total audio time (hours): 245.56604626157403\n"
     ]
    }
   ],
   "source": [
    "print(\"total audio clips:\", dataset_metadata_df.duration.count())\n",
    "print(\"mean duration of audio clips (seconds):\", dataset_metadata_df.duration.mean())\n",
    "print(\"N speakers:\", dataset_metadata_df.speaker.nunique())\n",
    "print(\"Total audio time (hours):\", dataset_metadata_df.duration.sum() / 3600)"
   ]
  },
  {
   "cell_type": "code",
   "execution_count": 127,
   "metadata": {},
   "outputs": [
    {
     "name": "stdout",
     "output_type": "stream",
     "text": [
      "audio samples per speaker\n"
     ]
    },
    {
     "data": {
      "text/plain": [
       "speaker\n",
       "MarcosBittencourt    2000\n",
       "JulioFaustino        2000\n",
       "DenizeRamos          2000\n",
       "Rodrigo              2000\n",
       "DanielRibeiro        2000\n",
       "                     ... \n",
       "Henrique             1000\n",
       "EdsonCabral          1000\n",
       "Geruza               1000\n",
       "Emigoncalvez         1000\n",
       "Elson                1000\n",
       "Name: count, Length: 101, dtype: int64"
      ]
     },
     "execution_count": 127,
     "metadata": {},
     "output_type": "execute_result"
    }
   ],
   "source": [
    "print(\"audio samples per speaker\")\n",
    "dataset_metadata_df.speaker.value_counts()"
   ]
  },
  {
   "cell_type": "code",
   "execution_count": 128,
   "metadata": {},
   "outputs": [
    {
     "name": "stdout",
     "output_type": "stream",
     "text": [
      "Minutes per speaker\n"
     ]
    },
    {
     "data": {
      "text/plain": [
       "speaker\n",
       "JoseIldo         210.167957\n",
       "TerezaSpedo      205.291261\n",
       "Tulio            194.401519\n",
       "AdrianaMalta     191.096592\n",
       "AnnaPerez        187.529110\n",
       "                    ...    \n",
       "Henrique          85.454699\n",
       "EdsonCabral       77.494906\n",
       "Emigoncalvez      68.972505\n",
       "EduardoTardin     64.391518\n",
       "Elson             61.242120\n",
       "Name: duration, Length: 101, dtype: float64"
      ]
     },
     "execution_count": 128,
     "metadata": {},
     "output_type": "execute_result"
    }
   ],
   "source": [
    "print('Minutes per speaker')\n",
    "dataset_metadata_df.groupby(\"speaker\")['duration'].sum().sort_values(ascending=False) / 60"
   ]
  },
  {
   "cell_type": "code",
   "execution_count": 129,
   "metadata": {},
   "outputs": [
    {
     "name": "stdout",
     "output_type": "stream",
     "text": [
      "samples by class\n"
     ]
    },
    {
     "data": {
      "text/plain": [
       "label\n",
       "bona-fide    100998\n",
       "spoof         78816\n",
       "Name: count, dtype: int64"
      ]
     },
     "execution_count": 129,
     "metadata": {},
     "output_type": "execute_result"
    }
   ],
   "source": [
    "print(\"samples by class\")\n",
    "dataset_metadata_df['label'].value_counts()"
   ]
  },
  {
   "cell_type": "code",
   "execution_count": 130,
   "metadata": {},
   "outputs": [
    {
     "name": "stdout",
     "output_type": "stream",
     "text": [
      "minutes by class\n"
     ]
    },
    {
     "data": {
      "text/plain": [
       "label\n",
       "bona-fide    8679.425531\n",
       "spoof        6054.537244\n",
       "Name: duration, dtype: float64"
      ]
     },
     "execution_count": 130,
     "metadata": {},
     "output_type": "execute_result"
    }
   ],
   "source": [
    "print(\"minutes by class\")\n",
    "dataset_metadata_df.groupby(\"label\")['duration'].sum().sort_values(ascending=False) / 60"
   ]
  },
  {
   "cell_type": "code",
   "execution_count": 131,
   "metadata": {},
   "outputs": [
    {
     "name": "stdout",
     "output_type": "stream",
     "text": [
      "duration mean of each class\n",
      "mean duration of spoof audios is bigger\n"
     ]
    },
    {
     "data": {
      "text/plain": [
       "label\n",
       "bona-fide    5.156196\n",
       "spoof        4.609118\n",
       "Name: duration, dtype: float64"
      ]
     },
     "execution_count": 131,
     "metadata": {},
     "output_type": "execute_result"
    }
   ],
   "source": [
    "# the proportions of samples and duration are diferrent, why?\n",
    "print(\"duration mean of each class\")\n",
    "print(\"mean duration of spoof audios is bigger\")\n",
    "dataset_metadata_df.groupby(\"label\")['duration'].mean()"
   ]
  },
  {
   "cell_type": "code",
   "execution_count": 132,
   "metadata": {},
   "outputs": [
    {
     "name": "stdout",
     "output_type": "stream",
     "text": [
      "Quantity of each audio per speaker\n"
     ]
    },
    {
     "data": {
      "text/html": [
       "<div>\n",
       "<style scoped>\n",
       "    .dataframe tbody tr th:only-of-type {\n",
       "        vertical-align: middle;\n",
       "    }\n",
       "\n",
       "    .dataframe tbody tr th {\n",
       "        vertical-align: top;\n",
       "    }\n",
       "\n",
       "    .dataframe thead th {\n",
       "        text-align: right;\n",
       "    }\n",
       "</style>\n",
       "<table border=\"1\" class=\"dataframe\">\n",
       "  <thead>\n",
       "    <tr style=\"text-align: right;\">\n",
       "      <th></th>\n",
       "      <th>spoof_count</th>\n",
       "      <th>bona_fide_count</th>\n",
       "      <th>total</th>\n",
       "      <th>spoof_ratio</th>\n",
       "    </tr>\n",
       "    <tr>\n",
       "      <th>speaker</th>\n",
       "      <th></th>\n",
       "      <th></th>\n",
       "      <th></th>\n",
       "      <th></th>\n",
       "    </tr>\n",
       "  </thead>\n",
       "  <tbody>\n",
       "    <tr>\n",
       "      <th>Emigoncalvez</th>\n",
       "      <td>0.0</td>\n",
       "      <td>1000</td>\n",
       "      <td>1000.0</td>\n",
       "      <td>0.0</td>\n",
       "    </tr>\n",
       "    <tr>\n",
       "      <th>EduardoPereira</th>\n",
       "      <td>0.0</td>\n",
       "      <td>1000</td>\n",
       "      <td>1000.0</td>\n",
       "      <td>0.0</td>\n",
       "    </tr>\n",
       "    <tr>\n",
       "      <th>EduardoTardin</th>\n",
       "      <td>0.0</td>\n",
       "      <td>1000</td>\n",
       "      <td>1000.0</td>\n",
       "      <td>0.0</td>\n",
       "    </tr>\n",
       "    <tr>\n",
       "      <th>EdsonCabral</th>\n",
       "      <td>0.0</td>\n",
       "      <td>1000</td>\n",
       "      <td>1000.0</td>\n",
       "      <td>0.0</td>\n",
       "    </tr>\n",
       "    <tr>\n",
       "      <th>Elson</th>\n",
       "      <td>0.0</td>\n",
       "      <td>1000</td>\n",
       "      <td>1000.0</td>\n",
       "      <td>0.0</td>\n",
       "    </tr>\n",
       "    <tr>\n",
       "      <th>...</th>\n",
       "      <td>...</td>\n",
       "      <td>...</td>\n",
       "      <td>...</td>\n",
       "      <td>...</td>\n",
       "    </tr>\n",
       "    <tr>\n",
       "      <th>SilvanaFerreira</th>\n",
       "      <td>1000.0</td>\n",
       "      <td>1000</td>\n",
       "      <td>2000.0</td>\n",
       "      <td>0.5</td>\n",
       "    </tr>\n",
       "    <tr>\n",
       "      <th>SandraRocha</th>\n",
       "      <td>1000.0</td>\n",
       "      <td>1000</td>\n",
       "      <td>2000.0</td>\n",
       "      <td>0.5</td>\n",
       "    </tr>\n",
       "    <tr>\n",
       "      <th>Rafael</th>\n",
       "      <td>1000.0</td>\n",
       "      <td>1000</td>\n",
       "      <td>2000.0</td>\n",
       "      <td>0.5</td>\n",
       "    </tr>\n",
       "    <tr>\n",
       "      <th>TerezaSpedo</th>\n",
       "      <td>1000.0</td>\n",
       "      <td>1000</td>\n",
       "      <td>2000.0</td>\n",
       "      <td>0.5</td>\n",
       "    </tr>\n",
       "    <tr>\n",
       "      <th>Tulio</th>\n",
       "      <td>1000.0</td>\n",
       "      <td>1000</td>\n",
       "      <td>2000.0</td>\n",
       "      <td>0.5</td>\n",
       "    </tr>\n",
       "  </tbody>\n",
       "</table>\n",
       "<p>101 rows × 4 columns</p>\n",
       "</div>"
      ],
      "text/plain": [
       "                 spoof_count  bona_fide_count   total  spoof_ratio\n",
       "speaker                                                           \n",
       "Emigoncalvez             0.0             1000  1000.0          0.0\n",
       "EduardoPereira           0.0             1000  1000.0          0.0\n",
       "EduardoTardin            0.0             1000  1000.0          0.0\n",
       "EdsonCabral              0.0             1000  1000.0          0.0\n",
       "Elson                    0.0             1000  1000.0          0.0\n",
       "...                      ...              ...     ...          ...\n",
       "SilvanaFerreira       1000.0             1000  2000.0          0.5\n",
       "SandraRocha           1000.0             1000  2000.0          0.5\n",
       "Rafael                1000.0             1000  2000.0          0.5\n",
       "TerezaSpedo           1000.0             1000  2000.0          0.5\n",
       "Tulio                 1000.0             1000  2000.0          0.5\n",
       "\n",
       "[101 rows x 4 columns]"
      ]
     },
     "execution_count": 132,
     "metadata": {},
     "output_type": "execute_result"
    }
   ],
   "source": [
    "print(\"Quantity of each audio per speaker\")\n",
    "\n",
    "spoof_per_speaker = dataset_metadata_df[dataset_metadata_df.label == 'spoof'].groupby(\"speaker\").duration.count()\n",
    "bonafide_per_speaker = dataset_metadata_df[dataset_metadata_df.label == 'bona-fide'].groupby(\"speaker\").duration.count()\n",
    "\n",
    "# Combine into a single DataFrame\n",
    "counts_df = pd.DataFrame({\n",
    "    'spoof_count': spoof_per_speaker,\n",
    "    'bona_fide_count': bonafide_per_speaker\n",
    "}).fillna(0)  # Fill NaN with 0 if some speakers have no 'spoof' or 'bona-fide' samples\n",
    "\n",
    "# Calculate total count and ratio for each speaker\n",
    "counts_df['total'] = counts_df['spoof_count'] + counts_df['bona_fide_count']\n",
    "counts_df['spoof_ratio'] = counts_df['spoof_count'] / counts_df['total']\n",
    "\n",
    "counts_df.sort_values(\"spoof_ratio\")"
   ]
  },
  {
   "cell_type": "code",
   "execution_count": 133,
   "metadata": {},
   "outputs": [
    {
     "name": "stdout",
     "output_type": "stream",
     "text": [
      "Minutes of each audio per speaker\n"
     ]
    },
    {
     "data": {
      "text/html": [
       "<div>\n",
       "<style scoped>\n",
       "    .dataframe tbody tr th:only-of-type {\n",
       "        vertical-align: middle;\n",
       "    }\n",
       "\n",
       "    .dataframe tbody tr th {\n",
       "        vertical-align: top;\n",
       "    }\n",
       "\n",
       "    .dataframe thead th {\n",
       "        text-align: right;\n",
       "    }\n",
       "</style>\n",
       "<table border=\"1\" class=\"dataframe\">\n",
       "  <thead>\n",
       "    <tr style=\"text-align: right;\">\n",
       "      <th></th>\n",
       "      <th>spoof_duration (min)</th>\n",
       "      <th>bona_fide_duration (min)</th>\n",
       "      <th>total_duration (min)</th>\n",
       "      <th>spoof_ratio</th>\n",
       "    </tr>\n",
       "    <tr>\n",
       "      <th>speaker</th>\n",
       "      <th></th>\n",
       "      <th></th>\n",
       "      <th></th>\n",
       "      <th></th>\n",
       "    </tr>\n",
       "  </thead>\n",
       "  <tbody>\n",
       "    <tr>\n",
       "      <th>Emigoncalvez</th>\n",
       "      <td>0.000000</td>\n",
       "      <td>68.972505</td>\n",
       "      <td>68.972505</td>\n",
       "      <td>0.000000</td>\n",
       "    </tr>\n",
       "    <tr>\n",
       "      <th>EduardoPereira</th>\n",
       "      <td>0.000000</td>\n",
       "      <td>87.568842</td>\n",
       "      <td>87.568842</td>\n",
       "      <td>0.000000</td>\n",
       "    </tr>\n",
       "    <tr>\n",
       "      <th>EduardoTardin</th>\n",
       "      <td>0.000000</td>\n",
       "      <td>64.391518</td>\n",
       "      <td>64.391518</td>\n",
       "      <td>0.000000</td>\n",
       "    </tr>\n",
       "    <tr>\n",
       "      <th>EdsonCabral</th>\n",
       "      <td>0.000000</td>\n",
       "      <td>77.494906</td>\n",
       "      <td>77.494906</td>\n",
       "      <td>0.000000</td>\n",
       "    </tr>\n",
       "    <tr>\n",
       "      <th>Elson</th>\n",
       "      <td>0.000000</td>\n",
       "      <td>61.242120</td>\n",
       "      <td>61.242120</td>\n",
       "      <td>0.000000</td>\n",
       "    </tr>\n",
       "    <tr>\n",
       "      <th>...</th>\n",
       "      <td>...</td>\n",
       "      <td>...</td>\n",
       "      <td>...</td>\n",
       "      <td>...</td>\n",
       "    </tr>\n",
       "    <tr>\n",
       "      <th>Milena</th>\n",
       "      <td>79.580622</td>\n",
       "      <td>75.608156</td>\n",
       "      <td>155.188778</td>\n",
       "      <td>0.512799</td>\n",
       "    </tr>\n",
       "    <tr>\n",
       "      <th>Alessandra</th>\n",
       "      <td>78.716622</td>\n",
       "      <td>74.660711</td>\n",
       "      <td>153.377334</td>\n",
       "      <td>0.513222</td>\n",
       "    </tr>\n",
       "    <tr>\n",
       "      <th>Mariana</th>\n",
       "      <td>73.718400</td>\n",
       "      <td>69.405747</td>\n",
       "      <td>143.124147</td>\n",
       "      <td>0.515066</td>\n",
       "    </tr>\n",
       "    <tr>\n",
       "      <th>JeanCarlos</th>\n",
       "      <td>63.136533</td>\n",
       "      <td>57.312081</td>\n",
       "      <td>120.448615</td>\n",
       "      <td>0.524178</td>\n",
       "    </tr>\n",
       "    <tr>\n",
       "      <th>MarioJr</th>\n",
       "      <td>71.978489</td>\n",
       "      <td>63.267827</td>\n",
       "      <td>135.246316</td>\n",
       "      <td>0.532203</td>\n",
       "    </tr>\n",
       "  </tbody>\n",
       "</table>\n",
       "<p>101 rows × 4 columns</p>\n",
       "</div>"
      ],
      "text/plain": [
       "                spoof_duration (min)  bona_fide_duration (min)  \\\n",
       "speaker                                                          \n",
       "Emigoncalvez                0.000000                 68.972505   \n",
       "EduardoPereira              0.000000                 87.568842   \n",
       "EduardoTardin               0.000000                 64.391518   \n",
       "EdsonCabral                 0.000000                 77.494906   \n",
       "Elson                       0.000000                 61.242120   \n",
       "...                              ...                       ...   \n",
       "Milena                     79.580622                 75.608156   \n",
       "Alessandra                 78.716622                 74.660711   \n",
       "Mariana                    73.718400                 69.405747   \n",
       "JeanCarlos                 63.136533                 57.312081   \n",
       "MarioJr                    71.978489                 63.267827   \n",
       "\n",
       "                total_duration (min)  spoof_ratio  \n",
       "speaker                                            \n",
       "Emigoncalvez               68.972505     0.000000  \n",
       "EduardoPereira             87.568842     0.000000  \n",
       "EduardoTardin              64.391518     0.000000  \n",
       "EdsonCabral                77.494906     0.000000  \n",
       "Elson                      61.242120     0.000000  \n",
       "...                              ...          ...  \n",
       "Milena                    155.188778     0.512799  \n",
       "Alessandra                153.377334     0.513222  \n",
       "Mariana                   143.124147     0.515066  \n",
       "JeanCarlos                120.448615     0.524178  \n",
       "MarioJr                   135.246316     0.532203  \n",
       "\n",
       "[101 rows x 4 columns]"
      ]
     },
     "execution_count": 133,
     "metadata": {},
     "output_type": "execute_result"
    }
   ],
   "source": [
    "print(\"Minutes of each audio per speaker\")\n",
    "\n",
    "import pandas as pd\n",
    "\n",
    "# Sum durations for each label per speaker, converting to minutes\n",
    "spoof_per_speaker = dataset_metadata_df[dataset_metadata_df.label == 'spoof'].groupby(\"speaker\").duration.sum() / 60\n",
    "bonafide_per_speaker = dataset_metadata_df[dataset_metadata_df.label == 'bona-fide'].groupby(\"speaker\").duration.sum() / 60\n",
    "\n",
    "# Combine into a single DataFrame\n",
    "duration_df = pd.DataFrame({\n",
    "    'spoof_duration (min)': spoof_per_speaker,\n",
    "    'bona_fide_duration (min)': bonafide_per_speaker\n",
    "}).fillna(0)  # Fill NaN with 0 if some speakers have no 'spoof' or 'bona-fide' samples\n",
    "\n",
    "# Calculate total duration and ratio for each speaker\n",
    "duration_df['total_duration (min)'] = duration_df['spoof_duration (min)'] + duration_df['bona_fide_duration (min)']\n",
    "duration_df['spoof_ratio'] = duration_df['spoof_duration (min)'] / duration_df['total_duration (min)']\n",
    "\n",
    "# Sort by spoof ratio\n",
    "duration_df = duration_df.sort_values(\"spoof_ratio\")\n",
    "\n",
    "duration_df.sort_values(\"spoof_ratio\")\n"
   ]
  }
 ],
 "metadata": {
  "kernelspec": {
   "display_name": ".venv",
   "language": "python",
   "name": "python3"
  },
  "language_info": {
   "codemirror_mode": {
    "name": "ipython",
    "version": 3
   },
   "file_extension": ".py",
   "mimetype": "text/x-python",
   "name": "python",
   "nbconvert_exporter": "python",
   "pygments_lexer": "ipython3",
   "version": "3.12.3"
  }
 },
 "nbformat": 4,
 "nbformat_minor": 2
}
