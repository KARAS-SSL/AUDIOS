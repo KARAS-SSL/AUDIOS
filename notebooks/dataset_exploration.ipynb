{
 "cells": [
  {
   "cell_type": "markdown",
   "metadata": {},
   "source": [
    "## Análise Exploratória do Conjunto de Dados\n",
    "\n",
    "### Sumário <a class=\"anchor\" id=\"topo\"></a>\n",
    "\n",
    "* [Parte 1: Configuração do notebook](#part_01)\n",
    "* [Parte 2: Geração do arquivo .csv](#part_02)\n",
    "* [Parte 3: Análise exploratória dos dados](#part_03)"
   ]
  },
  {
   "cell_type": "markdown",
   "metadata": {},
   "source": [
    "### Parte 1: Configuração do notebook <a class=\"anchor\" id=\"part_01\"></a>"
   ]
  },
  {
   "cell_type": "markdown",
   "metadata": {},
   "source": [
    "Nesta seção, as bibliotecas que serão usadas são importadas e as variáveis globais são definidas."
   ]
  },
  {
   "cell_type": "code",
   "execution_count": 23,
   "metadata": {},
   "outputs": [
    {
     "name": "stdout",
     "output_type": "stream",
     "text": [
      "Done!\n"
     ]
    }
   ],
   "source": [
    "import csv\n",
    "import os\n",
    "\n",
    "import librosa\n",
    "import matplotlib.pyplot as plt\n",
    "import numpy as np\n",
    "import pandas as pd\n",
    "import seaborn as sns\n",
    "\n",
    "PATH_TO_DATASET = \"/home/lozavival/Documents/AUDIOS-Dataset\"\n",
    "\n",
    "print(\"Done!\")"
   ]
  },
  {
   "cell_type": "markdown",
   "metadata": {},
   "source": [
    "### Parte 2: Geração do arquivo .csv <a class=\"anchor\" id=\"part_02\"></a>"
   ]
  },
  {
   "cell_type": "markdown",
   "metadata": {},
   "source": [
    "Nesta seção, a estrutura de pastas do dataset é percorrida para criação de um arquivo .csv contendo informações de metadados dos arquivos presentes no dataset.\n",
    "\n",
    "Esse arquivo pode ser gerado em duas versões: uma listagem por pessoa, em que cada linha da tabela contém informações sobre um locutor, ou uma listagem por arquivo, em que cada linha da tabela contém informações sobre um arquivo de áudio específico."
   ]
  },
  {
   "cell_type": "markdown",
   "metadata": {},
   "source": [
    "listagem por arquivo, em que cada linha da tabela contém informações sobre um arquivo de áudio específico."
   ]
  },
  {
   "cell_type": "markdown",
   "metadata": {},
   "source": [
    "#### Versão 1: Listagem por Pessoa\n",
    "\n",
    "Aqui, o dataset é percorrido e é gerado um arquivo .csv com as seguintes informações de cada pessoa:\n",
    "\n",
    "* Nome\n",
    "* Código identificador\n",
    "* Gênero (extraído do código identificador)\n",
    "* Quantidade de arquivos de fala sintetizada\n",
    "* Quantidade de arquivos de fala real"
   ]
  },
  {
   "cell_type": "code",
   "execution_count": null,
   "metadata": {},
   "outputs": [],
   "source": [
    "# Create a dictionary containing the name, id, gender and number of spoofed\n",
    "# and bonafide files for each person.\n",
    "fake_audios_path = os.path.join(PATH_TO_DATASET, \"fake_voices\")\n",
    "real_audios_path = os.path.join(PATH_TO_DATASET, \"real_voices\")\n",
    "people = {}\n",
    "\n",
    "# For every spoofed folder, get the number of spoofed files\n",
    "for folder in os.listdir(fake_audios_path):\n",
    "    path = os.path.join(fake_audios_path, folder)\n",
    "    files = os.listdir(path)\n",
    "\n",
    "    person, ids, *_ = folder.split(\"_\")\n",
    "    gender = ids[0]\n",
    "\n",
    "    people[person] = {\n",
    "        \"gender\": gender,\n",
    "        \"id\": ids,\n",
    "        \"spoof_count\": len(files),\n",
    "    }\n",
    "\n",
    "# For every bona-fide folder, get the number of bona-fide files\n",
    "for folder in os.listdir(real_audios_path):\n",
    "    path = os.path.join(real_audios_path, folder)\n",
    "    files = os.listdir(path)\n",
    "\n",
    "    person, ids, *_ = folder.split(\"_\")\n",
    "    gender = ids[0]\n",
    "\n",
    "    if people.get(person) is not None:\n",
    "        people[person][\"bonafide_count\"] = len(files)\n",
    "    else:\n",
    "        # If the person is not in the dictionary, there are no spoof files\n",
    "        people[person] = {\n",
    "            \"gender\": gender,\n",
    "            \"id\": ids,\n",
    "            \"spoof_count\": 0,\n",
    "            \"bonafide_count\": len(files),\n",
    "        }\n",
    "\n",
    "print(len(people))\n",
    "print(list(people.items())[:5])"
   ]
  },
  {
   "cell_type": "code",
   "execution_count": null,
   "metadata": {},
   "outputs": [],
   "source": [
    "# Export the dictionary to a .csv file.\n",
    "\n",
    "fields = [\"person\", \"gender\", \"id\", \"spoof_count\", \"bonafide_count\"]\n",
    "with open(os.path.join(PATH_TO_DATASET, \"meta.csv\"), \"w\") as f:\n",
    "    writer = csv.writer(f)\n",
    "    writer.writerow(fields)\n",
    "    for person, data in people.items():\n",
    "        writer.writerow([person, data[\"gender\"], data[\"id\"], data[\"spoof_count\"], data[\"bonafide_count\"]])\n",
    "\n",
    "print(\"File written!\")"
   ]
  },
  {
   "cell_type": "markdown",
   "metadata": {},
   "source": [
    "#### Versão 2: Listagem por Arquivo\n",
    "\n",
    "O dataset é percorrido e é gerado um arquivo .csv com as seguintes informações de cada arquivo de áudio:\n",
    "\n",
    "* Caminho relativo do arquivo no dataset\n",
    "* Nome do locutor\n",
    "* Código identificador do locutor\n",
    "* Gênero do locutor (extraído de seu código identificador)\n",
    "* Duração do áudio (em segundos)\n",
    "* Rótulo do áudio (\"spoof\" ou \"bona-fide\")"
   ]
  },
  {
   "cell_type": "code",
   "execution_count": null,
   "metadata": {},
   "outputs": [],
   "source": [
    "# Function to get the duration of an audio\n",
    "def get_duration(filename):\n",
    "    try:\n",
    "        audio_path = os.path.join(PATH_TO_DATASET, filename)\n",
    "        y, sr = librosa.load(audio_path, sr=None)\n",
    "        return librosa.get_duration(y=y, sr=sr)\n",
    "    except Exception as e:\n",
    "        print(f\"Could not load file {filename}: {e}\")\n",
    "        return None\n",
    "\n",
    "# Function to get the amplitude of an audio\n",
    "def get_amplitude(filename):\n",
    "    try:\n",
    "        audio_path = os.path.join(PATH_TO_DATASET, filename)\n",
    "        y, sr = librosa.load(audio_path, sr=None)\n",
    "        return np.max(y) - np.min(y)\n",
    "    except Exception as e:\n",
    "        print(f\"Could not load file {filename}: {e}\")\n",
    "        return None"
   ]
  },
  {
   "cell_type": "code",
   "execution_count": null,
   "metadata": {},
   "outputs": [],
   "source": [
    "# Create a list containing the path, speaker info, audio duration and label for each file.\n",
    "fake_audios_path = os.path.join(PATH_TO_DATASET, \"fake_voices\")\n",
    "real_audios_path = os.path.join(PATH_TO_DATASET, \"real_voices\")\n",
    "all_files = []\n",
    "\n",
    "# For every spoofed file, add its metadata to the list\n",
    "for folder in os.listdir(fake_audios_path):\n",
    "    folder_path = os.path.join(fake_audios_path, folder)\n",
    "    folder_files = os.listdir(folder_path)\n",
    "\n",
    "    person, ids, *_ = folder.split(\"_\")\n",
    "    gender = ids[0]\n",
    "    for filename in folder_files:\n",
    "        audio_path = os.path.join(\"fake_voices\", folder, filename)  # relative path\n",
    "        duration = get_duration(audio_path)\n",
    "        if duration is not None:\n",
    "            all_files.append([audio_path, person, ids, gender, duration, \"spoof\"])\n",
    "\n",
    "\n",
    "# For every bona-fide file, add its metadata to the list\n",
    "for folder in os.listdir(real_audios_path):\n",
    "    path = os.path.join(real_audios_path, folder)\n",
    "    folder_files = os.listdir(path)\n",
    "\n",
    "    person, ids, *_ = folder.split(\"_\")\n",
    "    gender = ids[0]\n",
    "    for filename in folder_files:\n",
    "        audio_path = os.path.join(\"real_voices\", folder, filename)\n",
    "        duration = get_duration(audio_path)\n",
    "        if duration is not None:\n",
    "            all_files.append([audio_path, person, ids, gender, duration, \"bona-fide\"])\n",
    "\n",
    "\n",
    "# Print the length of the list and the first 5 elements for visualization\n",
    "print(len(all_files))\n",
    "print(all_files[:5])"
   ]
  },
  {
   "cell_type": "code",
   "execution_count": null,
   "metadata": {},
   "outputs": [],
   "source": [
    "# Export the list to a .csv file.\n",
    "\n",
    "fields = [\"file\", \"speaker\", \"id\", \"gender\", \"duration\", \"label\"]\n",
    "with open(os.path.join(PATH_TO_DATASET, \"meta.csv\"), \"w\") as f:\n",
    "    writer = csv.writer(f)\n",
    "    writer.writerow(fields)\n",
    "    writer.writerows(all_files)\n",
    "\n",
    "print(\"File written!\")"
   ]
  },
  {
   "cell_type": "markdown",
   "metadata": {},
   "source": [
    "### Parte 3: Análise exploratória dos dados <a class=\"anchor\" id=\"part_03\"></a>"
   ]
  },
  {
   "cell_type": "markdown",
   "metadata": {},
   "source": [
    "4esta seção, o arquivo .csv contendo as informações de cada arquivo é carregado e é feita uma análise do conjunto de dados. Essa análise é dividida em três partes:\n",
    "\n",
    "* [Parte 3.1: Carregamento do dataframe](#part_03_01)\n",
    "\n",
    "    O dataframe é carregado e suas propriedades são verificadas.\n",
    "\n",
    "* [Parte 3.2: Visão geral dos dados](#part_03_02)\n",
    "\n",
    "    Aqui, é apresentada uma visão geral dos dados, fazendo uma análise da quantidade de arquivos e do número total de minutos de cada pessoa presente no dataset.\n",
    "\n",
    "* [Parte 3.3: Análise da amplitude dos áudios](#part_03_03)\n",
    "\n",
    "    Ao reproduzir alguns exemplos de cada classe, tem-se a impressão de que os áudios reais apresentam, de forma geral, uma amplitude muito menor que os áudios falsos. Assim, faz-se uma exploração para analisar se esse é realmente o caso.\n",
    "\n",
    "* [Parte 3.4: Análise do balanceamento do dataset](#part_03_04)\n",
    "\n",
    "    É feita uma análise do balanceamento dos dados entre as classes (\"spoof\" e \"bona-fide\") e entre os gêneros (masculino e feminino), verificando cada variável isoladamente e ambas variáveis em conjunto."
   ]
  },
  {
   "cell_type": "markdown",
   "metadata": {},
   "source": [
    "#### Parte 3.1: Carregamento do dataframe <a class=\"anchor\" id=\"part_03_01\"></a>"
   ]
  },
  {
   "cell_type": "code",
   "execution_count": 24,
   "metadata": {},
   "outputs": [
    {
     "data": {
      "text/plain": [
       "['meta_with_amplitudes.csv', 'meta.csv']"
      ]
     },
     "execution_count": 24,
     "metadata": {},
     "output_type": "execute_result"
    }
   ],
   "source": [
    "# Check if the .csv file exists\n",
    "[x for x in os.listdir(PATH_TO_DATASET) if x.endswith('.csv')]"
   ]
  },
  {
   "cell_type": "code",
   "execution_count": 25,
   "metadata": {},
   "outputs": [
    {
     "data": {
      "text/html": [
       "<div>\n",
       "<style scoped>\n",
       "    .dataframe tbody tr th:only-of-type {\n",
       "        vertical-align: middle;\n",
       "    }\n",
       "\n",
       "    .dataframe tbody tr th {\n",
       "        vertical-align: top;\n",
       "    }\n",
       "\n",
       "    .dataframe thead th {\n",
       "        text-align: right;\n",
       "    }\n",
       "</style>\n",
       "<table border=\"1\" class=\"dataframe\">\n",
       "  <thead>\n",
       "    <tr style=\"text-align: right;\">\n",
       "      <th></th>\n",
       "      <th>file</th>\n",
       "      <th>speaker</th>\n",
       "      <th>id</th>\n",
       "      <th>gender</th>\n",
       "      <th>duration</th>\n",
       "      <th>label</th>\n",
       "    </tr>\n",
       "  </thead>\n",
       "  <tbody>\n",
       "    <tr>\n",
       "      <th>0</th>\n",
       "      <td>fake_voices/Paula_F026_Fake/590_fake.wav</td>\n",
       "      <td>Paula</td>\n",
       "      <td>F026</td>\n",
       "      <td>F</td>\n",
       "      <td>3.434667</td>\n",
       "      <td>spoof</td>\n",
       "    </tr>\n",
       "    <tr>\n",
       "      <th>1</th>\n",
       "      <td>fake_voices/Paula_F026_Fake/337_fake.wav</td>\n",
       "      <td>Paula</td>\n",
       "      <td>F026</td>\n",
       "      <td>F</td>\n",
       "      <td>4.917333</td>\n",
       "      <td>spoof</td>\n",
       "    </tr>\n",
       "    <tr>\n",
       "      <th>2</th>\n",
       "      <td>fake_voices/Paula_F026_Fake/469_fake.wav</td>\n",
       "      <td>Paula</td>\n",
       "      <td>F026</td>\n",
       "      <td>F</td>\n",
       "      <td>3.616000</td>\n",
       "      <td>spoof</td>\n",
       "    </tr>\n",
       "    <tr>\n",
       "      <th>3</th>\n",
       "      <td>fake_voices/Paula_F026_Fake/664_fake.wav</td>\n",
       "      <td>Paula</td>\n",
       "      <td>F026</td>\n",
       "      <td>F</td>\n",
       "      <td>5.429333</td>\n",
       "      <td>spoof</td>\n",
       "    </tr>\n",
       "    <tr>\n",
       "      <th>4</th>\n",
       "      <td>fake_voices/Paula_F026_Fake/72_fake.wav</td>\n",
       "      <td>Paula</td>\n",
       "      <td>F026</td>\n",
       "      <td>F</td>\n",
       "      <td>3.754667</td>\n",
       "      <td>spoof</td>\n",
       "    </tr>\n",
       "  </tbody>\n",
       "</table>\n",
       "</div>"
      ],
      "text/plain": [
       "                                       file speaker    id gender  duration  \\\n",
       "0  fake_voices/Paula_F026_Fake/590_fake.wav   Paula  F026      F  3.434667   \n",
       "1  fake_voices/Paula_F026_Fake/337_fake.wav   Paula  F026      F  4.917333   \n",
       "2  fake_voices/Paula_F026_Fake/469_fake.wav   Paula  F026      F  3.616000   \n",
       "3  fake_voices/Paula_F026_Fake/664_fake.wav   Paula  F026      F  5.429333   \n",
       "4   fake_voices/Paula_F026_Fake/72_fake.wav   Paula  F026      F  3.754667   \n",
       "\n",
       "   label  \n",
       "0  spoof  \n",
       "1  spoof  \n",
       "2  spoof  \n",
       "3  spoof  \n",
       "4  spoof  "
      ]
     },
     "execution_count": 25,
     "metadata": {},
     "output_type": "execute_result"
    }
   ],
   "source": [
    "# Load the .csv file in a pandas dataframe\n",
    "dataset_metadata_df = pd.read_csv(os.path.join(PATH_TO_DATASET, 'meta.csv'), keep_default_na=False)\n",
    "dataset_metadata_df.head()"
   ]
  },
  {
   "cell_type": "code",
   "execution_count": 26,
   "metadata": {},
   "outputs": [
    {
     "name": "stdout",
     "output_type": "stream",
     "text": [
      "All tests passed!\n"
     ]
    }
   ],
   "source": [
    "# Check if the dataframe is correct\n",
    "assert len(dataset_metadata_df) == 179814\n",
    "assert dataset_metadata_df.speaker.nunique() == dataset_metadata_df.id.nunique() == 101\n",
    "assert dataset_metadata_df.gender.nunique() == 2\n",
    "assert dataset_metadata_df.label.nunique() == 2\n",
    "print(\"All tests passed!\")"
   ]
  },
  {
   "cell_type": "markdown",
   "metadata": {},
   "source": [
    "#### Parte 3.2: Visão geral dos dados <a class=\"anchor\" id=\"part_03_02\"></a>"
   ]
  },
  {
   "cell_type": "code",
   "execution_count": 27,
   "metadata": {},
   "outputs": [
    {
     "name": "stdout",
     "output_type": "stream",
     "text": [
      "total audio clips: 179814\n",
      "mean duration of audio clips (seconds): 4.916401206478175\n",
      "N speakers: 101\n",
      "Total audio time (hours): 245.56604626157403\n"
     ]
    }
   ],
   "source": [
    "print(\"total audio clips:\", dataset_metadata_df.duration.count())\n",
    "print(\"mean duration of audio clips (seconds):\", dataset_metadata_df.duration.mean())\n",
    "print(\"N speakers:\", dataset_metadata_df.speaker.nunique())\n",
    "print(\"Total audio time (hours):\", dataset_metadata_df.duration.sum() / 3600)"
   ]
  },
  {
   "cell_type": "code",
   "execution_count": 28,
   "metadata": {},
   "outputs": [
    {
     "name": "stdout",
     "output_type": "stream",
     "text": [
      "audio samples per speaker\n",
      "speaker\n",
      "MarcosBittencourt    2000\n",
      "JulioFaustino        2000\n",
      "DenizeRamos          2000\n",
      "DanielRibeiro        2000\n",
      "Rodrigo              2000\n",
      "                     ... \n",
      "Henrique             1000\n",
      "EdsonCabral          1000\n",
      "Geruza               1000\n",
      "Emigoncalvez         1000\n",
      "Elson                1000\n",
      "Name: count, Length: 101, dtype: int64\n"
     ]
    }
   ],
   "source": [
    "print(\"audio samples per speaker\")\n",
    "speaker_counts = dataset_metadata_df.speaker.value_counts()\n",
    "print(speaker_counts)"
   ]
  },
  {
   "cell_type": "code",
   "execution_count": 29,
   "metadata": {},
   "outputs": [
    {
     "name": "stdout",
     "output_type": "stream",
     "text": [
      "Minutes per speaker\n"
     ]
    },
    {
     "data": {
      "text/plain": [
       "speaker\n",
       "JoseIldo         210.167957\n",
       "TerezaSpedo      205.291261\n",
       "Tulio            194.401519\n",
       "AdrianaMalta     191.096592\n",
       "AnnaPerez        187.529110\n",
       "                    ...    \n",
       "Henrique          85.454699\n",
       "EdsonCabral       77.494906\n",
       "Emigoncalvez      68.972505\n",
       "EduardoTardin     64.391518\n",
       "Elson             61.242120\n",
       "Name: duration, Length: 101, dtype: float64"
      ]
     },
     "execution_count": 29,
     "metadata": {},
     "output_type": "execute_result"
    }
   ],
   "source": [
    "print('Minutes per speaker')\n",
    "dataset_metadata_df.groupby(\"speaker\")['duration'].sum().sort_values(ascending=False) / 60"
   ]
  },
  {
   "cell_type": "code",
   "execution_count": 30,
   "metadata": {},
   "outputs": [
    {
     "name": "stdout",
     "output_type": "stream",
     "text": [
      "Quantity of each audio per speaker\n"
     ]
    },
    {
     "data": {
      "text/html": [
       "<div>\n",
       "<style scoped>\n",
       "    .dataframe tbody tr th:only-of-type {\n",
       "        vertical-align: middle;\n",
       "    }\n",
       "\n",
       "    .dataframe tbody tr th {\n",
       "        vertical-align: top;\n",
       "    }\n",
       "\n",
       "    .dataframe thead th {\n",
       "        text-align: right;\n",
       "    }\n",
       "</style>\n",
       "<table border=\"1\" class=\"dataframe\">\n",
       "  <thead>\n",
       "    <tr style=\"text-align: right;\">\n",
       "      <th></th>\n",
       "      <th>spoof_count</th>\n",
       "      <th>bona_fide_count</th>\n",
       "      <th>total</th>\n",
       "      <th>spoof_ratio</th>\n",
       "    </tr>\n",
       "    <tr>\n",
       "      <th>speaker</th>\n",
       "      <th></th>\n",
       "      <th></th>\n",
       "      <th></th>\n",
       "      <th></th>\n",
       "    </tr>\n",
       "  </thead>\n",
       "  <tbody>\n",
       "    <tr>\n",
       "      <th>EduardoPereira</th>\n",
       "      <td>0.0</td>\n",
       "      <td>1000</td>\n",
       "      <td>1000.0</td>\n",
       "      <td>0.0</td>\n",
       "    </tr>\n",
       "    <tr>\n",
       "      <th>EduardoTardin</th>\n",
       "      <td>0.0</td>\n",
       "      <td>1000</td>\n",
       "      <td>1000.0</td>\n",
       "      <td>0.0</td>\n",
       "    </tr>\n",
       "    <tr>\n",
       "      <th>Elson</th>\n",
       "      <td>0.0</td>\n",
       "      <td>1000</td>\n",
       "      <td>1000.0</td>\n",
       "      <td>0.0</td>\n",
       "    </tr>\n",
       "    <tr>\n",
       "      <th>Emigoncalvez</th>\n",
       "      <td>0.0</td>\n",
       "      <td>1000</td>\n",
       "      <td>1000.0</td>\n",
       "      <td>0.0</td>\n",
       "    </tr>\n",
       "    <tr>\n",
       "      <th>EdsonCabral</th>\n",
       "      <td>0.0</td>\n",
       "      <td>1000</td>\n",
       "      <td>1000.0</td>\n",
       "      <td>0.0</td>\n",
       "    </tr>\n",
       "    <tr>\n",
       "      <th>...</th>\n",
       "      <td>...</td>\n",
       "      <td>...</td>\n",
       "      <td>...</td>\n",
       "      <td>...</td>\n",
       "    </tr>\n",
       "    <tr>\n",
       "      <th>SilvanaFerreira</th>\n",
       "      <td>1000.0</td>\n",
       "      <td>1000</td>\n",
       "      <td>2000.0</td>\n",
       "      <td>0.5</td>\n",
       "    </tr>\n",
       "    <tr>\n",
       "      <th>SandraRocha</th>\n",
       "      <td>1000.0</td>\n",
       "      <td>1000</td>\n",
       "      <td>2000.0</td>\n",
       "      <td>0.5</td>\n",
       "    </tr>\n",
       "    <tr>\n",
       "      <th>Rafael</th>\n",
       "      <td>1000.0</td>\n",
       "      <td>1000</td>\n",
       "      <td>2000.0</td>\n",
       "      <td>0.5</td>\n",
       "    </tr>\n",
       "    <tr>\n",
       "      <th>Tulio</th>\n",
       "      <td>1000.0</td>\n",
       "      <td>1000</td>\n",
       "      <td>2000.0</td>\n",
       "      <td>0.5</td>\n",
       "    </tr>\n",
       "    <tr>\n",
       "      <th>TerezaSpedo</th>\n",
       "      <td>1000.0</td>\n",
       "      <td>1000</td>\n",
       "      <td>2000.0</td>\n",
       "      <td>0.5</td>\n",
       "    </tr>\n",
       "  </tbody>\n",
       "</table>\n",
       "<p>101 rows × 4 columns</p>\n",
       "</div>"
      ],
      "text/plain": [
       "                 spoof_count  bona_fide_count   total  spoof_ratio\n",
       "speaker                                                           \n",
       "EduardoPereira           0.0             1000  1000.0          0.0\n",
       "EduardoTardin            0.0             1000  1000.0          0.0\n",
       "Elson                    0.0             1000  1000.0          0.0\n",
       "Emigoncalvez             0.0             1000  1000.0          0.0\n",
       "EdsonCabral              0.0             1000  1000.0          0.0\n",
       "...                      ...              ...     ...          ...\n",
       "SilvanaFerreira       1000.0             1000  2000.0          0.5\n",
       "SandraRocha           1000.0             1000  2000.0          0.5\n",
       "Rafael                1000.0             1000  2000.0          0.5\n",
       "Tulio                 1000.0             1000  2000.0          0.5\n",
       "TerezaSpedo           1000.0             1000  2000.0          0.5\n",
       "\n",
       "[101 rows x 4 columns]"
      ]
     },
     "execution_count": 30,
     "metadata": {},
     "output_type": "execute_result"
    }
   ],
   "source": [
    "print(\"Quantity of each audio per speaker\")\n",
    "\n",
    "spoof_per_speaker = dataset_metadata_df[dataset_metadata_df.label == 'spoof'].groupby(\"speaker\").duration.count()\n",
    "bonafide_per_speaker = dataset_metadata_df[dataset_metadata_df.label == 'bona-fide'].groupby(\"speaker\").duration.count()\n",
    "\n",
    "# Combine into a single DataFrame\n",
    "counts_df = pd.DataFrame({\n",
    "    'spoof_count': spoof_per_speaker,\n",
    "    'bona_fide_count': bonafide_per_speaker\n",
    "}).fillna(0)  # Fill NaN with 0 if some speakers have no 'spoof' or 'bona-fide' samples\n",
    "\n",
    "# Calculate total count and ratio for each speaker\n",
    "counts_df['total'] = counts_df['spoof_count'] + counts_df['bona_fide_count']\n",
    "counts_df['spoof_ratio'] = counts_df['spoof_count'] / counts_df['total']\n",
    "\n",
    "counts_df.sort_values(\"spoof_ratio\")"
   ]
  },
  {
   "cell_type": "code",
   "execution_count": 31,
   "metadata": {},
   "outputs": [
    {
     "name": "stdout",
     "output_type": "stream",
     "text": [
      "Minutes of each audio per speaker\n"
     ]
    },
    {
     "data": {
      "text/html": [
       "<div>\n",
       "<style scoped>\n",
       "    .dataframe tbody tr th:only-of-type {\n",
       "        vertical-align: middle;\n",
       "    }\n",
       "\n",
       "    .dataframe tbody tr th {\n",
       "        vertical-align: top;\n",
       "    }\n",
       "\n",
       "    .dataframe thead th {\n",
       "        text-align: right;\n",
       "    }\n",
       "</style>\n",
       "<table border=\"1\" class=\"dataframe\">\n",
       "  <thead>\n",
       "    <tr style=\"text-align: right;\">\n",
       "      <th></th>\n",
       "      <th>spoof_duration (min)</th>\n",
       "      <th>bona_fide_duration (min)</th>\n",
       "      <th>total_duration (min)</th>\n",
       "      <th>spoof_ratio</th>\n",
       "    </tr>\n",
       "    <tr>\n",
       "      <th>speaker</th>\n",
       "      <th></th>\n",
       "      <th></th>\n",
       "      <th></th>\n",
       "      <th></th>\n",
       "    </tr>\n",
       "  </thead>\n",
       "  <tbody>\n",
       "    <tr>\n",
       "      <th>EduardoPereira</th>\n",
       "      <td>0.000000</td>\n",
       "      <td>87.568842</td>\n",
       "      <td>87.568842</td>\n",
       "      <td>0.000000</td>\n",
       "    </tr>\n",
       "    <tr>\n",
       "      <th>EduardoTardin</th>\n",
       "      <td>0.000000</td>\n",
       "      <td>64.391518</td>\n",
       "      <td>64.391518</td>\n",
       "      <td>0.000000</td>\n",
       "    </tr>\n",
       "    <tr>\n",
       "      <th>Elson</th>\n",
       "      <td>0.000000</td>\n",
       "      <td>61.242120</td>\n",
       "      <td>61.242120</td>\n",
       "      <td>0.000000</td>\n",
       "    </tr>\n",
       "    <tr>\n",
       "      <th>Emigoncalvez</th>\n",
       "      <td>0.000000</td>\n",
       "      <td>68.972505</td>\n",
       "      <td>68.972505</td>\n",
       "      <td>0.000000</td>\n",
       "    </tr>\n",
       "    <tr>\n",
       "      <th>EdsonCabral</th>\n",
       "      <td>0.000000</td>\n",
       "      <td>77.494906</td>\n",
       "      <td>77.494906</td>\n",
       "      <td>0.000000</td>\n",
       "    </tr>\n",
       "    <tr>\n",
       "      <th>...</th>\n",
       "      <td>...</td>\n",
       "      <td>...</td>\n",
       "      <td>...</td>\n",
       "      <td>...</td>\n",
       "    </tr>\n",
       "    <tr>\n",
       "      <th>Milena</th>\n",
       "      <td>79.580622</td>\n",
       "      <td>75.608156</td>\n",
       "      <td>155.188778</td>\n",
       "      <td>0.512799</td>\n",
       "    </tr>\n",
       "    <tr>\n",
       "      <th>Alessandra</th>\n",
       "      <td>78.716622</td>\n",
       "      <td>74.660711</td>\n",
       "      <td>153.377334</td>\n",
       "      <td>0.513222</td>\n",
       "    </tr>\n",
       "    <tr>\n",
       "      <th>Mariana</th>\n",
       "      <td>73.718400</td>\n",
       "      <td>69.405747</td>\n",
       "      <td>143.124147</td>\n",
       "      <td>0.515066</td>\n",
       "    </tr>\n",
       "    <tr>\n",
       "      <th>JeanCarlos</th>\n",
       "      <td>63.136533</td>\n",
       "      <td>57.312081</td>\n",
       "      <td>120.448615</td>\n",
       "      <td>0.524178</td>\n",
       "    </tr>\n",
       "    <tr>\n",
       "      <th>MarioJr</th>\n",
       "      <td>71.978489</td>\n",
       "      <td>63.267827</td>\n",
       "      <td>135.246316</td>\n",
       "      <td>0.532203</td>\n",
       "    </tr>\n",
       "  </tbody>\n",
       "</table>\n",
       "<p>101 rows × 4 columns</p>\n",
       "</div>"
      ],
      "text/plain": [
       "                spoof_duration (min)  bona_fide_duration (min)  \\\n",
       "speaker                                                          \n",
       "EduardoPereira              0.000000                 87.568842   \n",
       "EduardoTardin               0.000000                 64.391518   \n",
       "Elson                       0.000000                 61.242120   \n",
       "Emigoncalvez                0.000000                 68.972505   \n",
       "EdsonCabral                 0.000000                 77.494906   \n",
       "...                              ...                       ...   \n",
       "Milena                     79.580622                 75.608156   \n",
       "Alessandra                 78.716622                 74.660711   \n",
       "Mariana                    73.718400                 69.405747   \n",
       "JeanCarlos                 63.136533                 57.312081   \n",
       "MarioJr                    71.978489                 63.267827   \n",
       "\n",
       "                total_duration (min)  spoof_ratio  \n",
       "speaker                                            \n",
       "EduardoPereira             87.568842     0.000000  \n",
       "EduardoTardin              64.391518     0.000000  \n",
       "Elson                      61.242120     0.000000  \n",
       "Emigoncalvez               68.972505     0.000000  \n",
       "EdsonCabral                77.494906     0.000000  \n",
       "...                              ...          ...  \n",
       "Milena                    155.188778     0.512799  \n",
       "Alessandra                153.377334     0.513222  \n",
       "Mariana                   143.124147     0.515066  \n",
       "JeanCarlos                120.448615     0.524178  \n",
       "MarioJr                   135.246316     0.532203  \n",
       "\n",
       "[101 rows x 4 columns]"
      ]
     },
     "execution_count": 31,
     "metadata": {},
     "output_type": "execute_result"
    }
   ],
   "source": [
    "print(\"Minutes of each audio per speaker\")\n",
    "\n",
    "# Sum durations for each label per speaker, converting to minutes\n",
    "spoof_per_speaker = dataset_metadata_df[dataset_metadata_df.label == 'spoof'].groupby(\"speaker\").duration.sum() / 60\n",
    "bonafide_per_speaker = dataset_metadata_df[dataset_metadata_df.label == 'bona-fide'].groupby(\"speaker\").duration.sum() / 60\n",
    "\n",
    "# Combine into a single DataFrame\n",
    "duration_df = pd.DataFrame({\n",
    "    'spoof_duration (min)': spoof_per_speaker,\n",
    "    'bona_fide_duration (min)': bonafide_per_speaker\n",
    "}).fillna(0)  # Fill NaN with 0 if some speakers have no 'spoof' or 'bona-fide' samples\n",
    "\n",
    "# Calculate total duration and ratio for each speaker\n",
    "duration_df['total_duration (min)'] = duration_df['spoof_duration (min)'] + duration_df['bona_fide_duration (min)']\n",
    "duration_df['spoof_ratio'] = duration_df['spoof_duration (min)'] / duration_df['total_duration (min)']\n",
    "\n",
    "# Sort by spoof ratio\n",
    "duration_df = duration_df.sort_values(\"spoof_ratio\")\n",
    "\n",
    "duration_df.sort_values(\"spoof_ratio\")"
   ]
  },
  {
   "cell_type": "markdown",
   "metadata": {},
   "source": [
    "#### Parte 3.3: Análise da amplitude dos áudios <a class=\"anchor\" id=\"part_03_03\"></a>"
   ]
  },
  {
   "cell_type": "code",
   "execution_count": 32,
   "metadata": {},
   "outputs": [
    {
     "name": "stdout",
     "output_type": "stream",
     "text": [
      "duration of amplitudes done\n"
     ]
    }
   ],
   "source": [
    "# Apply the function to get aplitudes and add them as a new column\n",
    "dataset_metadata_df['amplitude'] = dataset_metadata_df['file'].apply(get_amplitude)\n",
    "print(\"duration of amplitudes done\")"
   ]
  },
  {
   "cell_type": "code",
   "execution_count": 34,
   "metadata": {},
   "outputs": [
    {
     "name": "stdout",
     "output_type": "stream",
     "text": [
      "meta_with_amplitudes.csv saved\n"
     ]
    }
   ],
   "source": [
    "# Export the DataFrame to a CSV file\n",
    "dataset_metadata_df.to_csv(os.path.join(PATH_TO_DATASET, \"meta_with_amplitudes.csv\"), index=False)\n",
    "print(\"meta_with_amplitudes.csv saved\")"
   ]
  },
  {
   "cell_type": "code",
   "execution_count": 33,
   "metadata": {},
   "outputs": [
    {
     "name": "stdout",
     "output_type": "stream",
     "text": [
      "amplitude mean of each class\n"
     ]
    },
    {
     "data": {
      "text/plain": [
       "label\n",
       "bona-fide    0.597264\n",
       "spoof        1.580730\n",
       "Name: amplitude, dtype: float32"
      ]
     },
     "execution_count": 33,
     "metadata": {},
     "output_type": "execute_result"
    }
   ],
   "source": [
    "print(\"amplitude mean of each class\")\n",
    "dataset_metadata_df.groupby(\"label\")['amplitude'].mean()"
   ]
  },
  {
   "cell_type": "code",
   "execution_count": 35,
   "metadata": {},
   "outputs": [
    {
     "data": {
      "image/png": "[encoded data removed]",
      "text/plain": [
       "<Figure size 1200x600 with 1 Axes>"
      ]
     },
     "metadata": {},
     "output_type": "display_data"
    }
   ],
   "source": [
    "# Create the boxplot\n",
    "plt.figure(figsize=(12, 6))\n",
    "sns.boxplot(data=dataset_metadata_df, x='label', y='amplitude')\n",
    "\n",
    "# Customize the plot\n",
    "plt.title(\"Boxplot of Audio Amplitude per Class\", fontsize=14)\n",
    "plt.xlabel(\"Class\", fontsize=12)\n",
    "plt.ylabel(\"Duration (Seconds)\", fontsize=12)\n",
    "plt.xticks(rotation=45, ha='right')\n",
    "plt.tight_layout()\n",
    "\n",
    "# Show the plot\n",
    "plt.show()"
   ]
  },
  {
   "cell_type": "code",
   "execution_count": 36,
   "metadata": {},
   "outputs": [
    {
     "name": "stdout",
     "output_type": "stream",
     "text": [
      "amplitude mean of each gender\n"
     ]
    },
    {
     "data": {
      "text/plain": [
       "gender\n",
       "F    1.039197\n",
       "M    1.017006\n",
       "Name: amplitude, dtype: float32"
      ]
     },
     "execution_count": 36,
     "metadata": {},
     "output_type": "execute_result"
    }
   ],
   "source": [
    "print(\"amplitude mean of each gender\")\n",
    "dataset_metadata_df.groupby(\"gender\")['amplitude'].mean()"
   ]
  },
  {
   "cell_type": "code",
   "execution_count": 37,
   "metadata": {},
   "outputs": [
    {
     "name": "stdout",
     "output_type": "stream",
     "text": [
      "amplitude mean of each class, divided by gender\n"
     ]
    },
    {
     "data": {
      "text/plain": [
       "label      gender\n",
       "bona-fide  F         0.635437\n",
       "           M         0.558329\n",
       "spoof      F         1.543691\n",
       "           M         1.620511\n",
       "Name: amplitude, dtype: float32"
      ]
     },
     "execution_count": 37,
     "metadata": {},
     "output_type": "execute_result"
    }
   ],
   "source": [
    "print(\"amplitude mean of each class, divided by gender\")\n",
    "dataset_metadata_df.groupby([\"label\", \"gender\"])['amplitude'].mean()"
   ]
  },
  {
   "cell_type": "code",
   "execution_count": 52,
   "metadata": {},
   "outputs": [
    {
     "data": {
      "image/png": "[encoded data removed]",
      "text/plain": [
       "<Figure size 1200x600 with 1 Axes>"
      ]
     },
     "metadata": {},
     "output_type": "display_data"
    }
   ],
   "source": [
    "# Create the boxplot\n",
    "plt.figure(figsize=(12, 6))\n",
    "sns.boxplot(data=dataset_metadata_df, x='label', y='amplitude', hue='gender', palette='pastel')\n",
    "\n",
    "# Customize the plot\n",
    "plt.title(\"Boxplot of Audio Amplitude per Class and Gender\", fontsize=14)\n",
    "plt.xlabel(\"Class\", fontsize=12)\n",
    "plt.ylabel(\"Amplitude\", fontsize=12)\n",
    "plt.legend(title=\"Gender\")\n",
    "plt.xticks(rotation=45, ha='right')\n",
    "plt.tight_layout()\n",
    "\n",
    "# Show the plot\n",
    "plt.show()"
   ]
  },
  {
   "cell_type": "markdown",
   "metadata": {},
   "source": [
    "#### Parte 3.4: Análise do balanceamento <a class=\"anchor\" id=\"part_03_04\"></a>"
   ]
  },
  {
   "cell_type": "markdown",
   "metadata": {},
   "source": [
    "##### Parte 3.4.1: Balanceamento por Classe"
   ]
  },
  {
   "cell_type": "code",
   "execution_count": 38,
   "metadata": {},
   "outputs": [
    {
     "name": "stdout",
     "output_type": "stream",
     "text": [
      "samples by class\n"
     ]
    },
    {
     "data": {
      "text/plain": [
       "label\n",
       "bona-fide    100998\n",
       "spoof         78816\n",
       "Name: count, dtype: int64"
      ]
     },
     "execution_count": 38,
     "metadata": {},
     "output_type": "execute_result"
    }
   ],
   "source": [
    "print(\"samples by class\")\n",
    "dataset_metadata_df['label'].value_counts()"
   ]
  },
  {
   "cell_type": "code",
   "execution_count": 39,
   "metadata": {},
   "outputs": [
    {
     "name": "stdout",
     "output_type": "stream",
     "text": [
      "minutes by class\n"
     ]
    },
    {
     "data": {
      "text/plain": [
       "label\n",
       "bona-fide    8679.425531\n",
       "spoof        6054.537244\n",
       "Name: duration, dtype: float64"
      ]
     },
     "execution_count": 39,
     "metadata": {},
     "output_type": "execute_result"
    }
   ],
   "source": [
    "print(\"minutes by class\")\n",
    "dataset_metadata_df.groupby(\"label\")['duration'].sum().sort_values(ascending=False) / 60"
   ]
  },
  {
   "cell_type": "code",
   "execution_count": 40,
   "metadata": {},
   "outputs": [
    {
     "name": "stdout",
     "output_type": "stream",
     "text": [
      "duration mean of each class\n"
     ]
    },
    {
     "data": {
      "text/plain": [
       "label\n",
       "bona-fide    5.156196\n",
       "spoof        4.609118\n",
       "Name: duration, dtype: float64"
      ]
     },
     "execution_count": 40,
     "metadata": {},
     "output_type": "execute_result"
    }
   ],
   "source": [
    "print(\"duration mean of each class\")\n",
    "dataset_metadata_df.groupby(\"label\")['duration'].mean()"
   ]
  },
  {
   "cell_type": "code",
   "execution_count": 41,
   "metadata": {},
   "outputs": [
    {
     "data": {
      "image/png": "[encoded data removed]",
      "text/plain": [
       "<Figure size 1200x600 with 1 Axes>"
      ]
     },
     "metadata": {},
     "output_type": "display_data"
    }
   ],
   "source": [
    "# Create the boxplot\n",
    "plt.figure(figsize=(12, 6))\n",
    "sns.boxplot(data=dataset_metadata_df, x='label', y='duration')\n",
    "\n",
    "# Customize the plot\n",
    "plt.title(\"Boxplot of Audio Duration per Class\", fontsize=14)\n",
    "plt.xlabel(\"Class\", fontsize=12)\n",
    "plt.ylabel(\"Duration (Seconds)\", fontsize=12)\n",
    "plt.xticks(rotation=45, ha='right')\n",
    "plt.tight_layout()\n",
    "\n",
    "# Show the plot\n",
    "plt.show()"
   ]
  },
  {
   "cell_type": "markdown",
   "metadata": {},
   "source": [
    "##### Parte 3.4.2: Balanceamento por Gênero"
   ]
  },
  {
   "cell_type": "code",
   "execution_count": 42,
   "metadata": {},
   "outputs": [
    {
     "name": "stdout",
     "output_type": "stream",
     "text": [
      "samples by gender\n"
     ]
    },
    {
     "data": {
      "text/plain": [
       "gender\n",
       "F    91813\n",
       "M    88001\n",
       "Name: count, dtype: int64"
      ]
     },
     "execution_count": 42,
     "metadata": {},
     "output_type": "execute_result"
    }
   ],
   "source": [
    "print(\"samples by gender\")\n",
    "dataset_metadata_df['gender'].value_counts()"
   ]
  },
  {
   "cell_type": "code",
   "execution_count": 43,
   "metadata": {},
   "outputs": [
    {
     "name": "stdout",
     "output_type": "stream",
     "text": [
      "minutes by gender\n"
     ]
    },
    {
     "data": {
      "text/plain": [
       "gender\n",
       "F    7597.340374\n",
       "M    7136.622401\n",
       "Name: duration, dtype: float64"
      ]
     },
     "execution_count": 43,
     "metadata": {},
     "output_type": "execute_result"
    }
   ],
   "source": [
    "print(\"minutes by gender\")\n",
    "dataset_metadata_df.groupby(\"gender\")['duration'].sum().sort_values(ascending=False) / 60"
   ]
  },
  {
   "cell_type": "code",
   "execution_count": 44,
   "metadata": {},
   "outputs": [
    {
     "name": "stdout",
     "output_type": "stream",
     "text": [
      "duration mean of each gender\n"
     ]
    },
    {
     "data": {
      "text/plain": [
       "gender\n",
       "F    4.964879\n",
       "M    4.865824\n",
       "Name: duration, dtype: float64"
      ]
     },
     "execution_count": 44,
     "metadata": {},
     "output_type": "execute_result"
    }
   ],
   "source": [
    "print(\"duration mean of each gender\")\n",
    "dataset_metadata_df.groupby(\"gender\")['duration'].mean()"
   ]
  },
  {
   "cell_type": "code",
   "execution_count": 45,
   "metadata": {},
   "outputs": [
    {
     "data": {
      "image/png": "[encoded data removed]",
      "text/plain": [
       "<Figure size 1200x600 with 1 Axes>"
      ]
     },
     "metadata": {},
     "output_type": "display_data"
    }
   ],
   "source": [
    "# Create the boxplot\n",
    "plt.figure(figsize=(12, 6))\n",
    "sns.boxplot(data=dataset_metadata_df, x='gender', y='duration')\n",
    "\n",
    "# Customize the plot\n",
    "plt.title(\"Boxplot of Audio Duration per Gender\", fontsize=14)\n",
    "plt.xlabel(\"Gender\", fontsize=12)\n",
    "plt.ylabel(\"Duration (Seconds)\", fontsize=12)\n",
    "plt.xticks(rotation=45, ha='right')\n",
    "plt.tight_layout()\n",
    "\n",
    "# Show the plot\n",
    "plt.show()"
   ]
  },
  {
   "cell_type": "markdown",
   "metadata": {},
   "source": [
    "##### Parte 3.4.3: Balanceamento por Classe e Gênero"
   ]
  },
  {
   "cell_type": "code",
   "execution_count": 46,
   "metadata": {},
   "outputs": [
    {
     "name": "stdout",
     "output_type": "stream",
     "text": [
      "samples by class and gender\n"
     ]
    },
    {
     "data": {
      "text/plain": [
       "label      gender\n",
       "bona-fide  F         50998\n",
       "           M         50000\n",
       "spoof      F         40815\n",
       "           M         38001\n",
       "dtype: int64"
      ]
     },
     "execution_count": 46,
     "metadata": {},
     "output_type": "execute_result"
    }
   ],
   "source": [
    "print(\"samples by class and gender\")\n",
    "dataset_metadata_df.groupby(['label', 'gender']).size()"
   ]
  },
  {
   "cell_type": "code",
   "execution_count": 47,
   "metadata": {},
   "outputs": [
    {
     "name": "stdout",
     "output_type": "stream",
     "text": [
      "minutes by class and gender\n"
     ]
    },
    {
     "data": {
      "text/plain": [
       "label      gender\n",
       "bona-fide  F         4372.173085\n",
       "           M         4307.252446\n",
       "spoof      F         3225.167289\n",
       "           M         2829.369956\n",
       "Name: duration, dtype: float64"
      ]
     },
     "execution_count": 47,
     "metadata": {},
     "output_type": "execute_result"
    }
   ],
   "source": [
    "print(\"minutes by class and gender\")\n",
    "dataset_metadata_df.groupby([\"label\", \"gender\"])['duration'].sum().sort_values(ascending=False) / 60"
   ]
  },
  {
   "cell_type": "code",
   "execution_count": 51,
   "metadata": {},
   "outputs": [
    {
     "data": {
      "image/png": "[encoded data removed]",
      "text/plain": [
       "<Figure size 600x600 with 1 Axes>"
      ]
     },
     "metadata": {},
     "output_type": "display_data"
    }
   ],
   "source": [
    "# Aggregate the data: Total duration grouped by class and gender, converted to minutes\n",
    "grouped_data = dataset_metadata_df.groupby(['label', 'gender'])['duration'].sum().reset_index()\n",
    "grouped_data['duration_minutes'] = grouped_data['duration'] / 60  # Convert to minutes\n",
    "\n",
    "# Create the bar plot using Seaborn\n",
    "plt.figure(figsize=(6, 6))\n",
    "sns.barplot(\n",
    "    data=grouped_data,\n",
    "    x='label',  # Group by class\n",
    "    y='duration_minutes',  # Total duration in minutes\n",
    "    hue='gender',  # Separate bars by gender\n",
    "    palette='pastel'\n",
    ")\n",
    "\n",
    "# Customize the plot\n",
    "plt.title(\"Total Minutes per Class and Gender\", fontsize=14)\n",
    "plt.xlabel(\"Class\", fontsize=12)\n",
    "plt.ylabel(\"Total Duration (Minutes)\", fontsize=12)\n",
    "plt.legend(title=\"Gender\")\n",
    "plt.xticks(rotation=45, ha='right')\n",
    "plt.grid(axis='y')\n",
    "plt.tight_layout()\n",
    "\n",
    "# Show the plot\n",
    "plt.show()"
   ]
  },
  {
   "cell_type": "code",
   "execution_count": 49,
   "metadata": {},
   "outputs": [
    {
     "name": "stdout",
     "output_type": "stream",
     "text": [
      "duration mean of each class and gender\n"
     ]
    },
    {
     "data": {
      "text/plain": [
       "label      gender\n",
       "bona-fide  F         5.143935\n",
       "           M         5.168703\n",
       "spoof      F         4.741150\n",
       "           M         4.467309\n",
       "Name: duration, dtype: float64"
      ]
     },
     "execution_count": 49,
     "metadata": {},
     "output_type": "execute_result"
    }
   ],
   "source": [
    "print(\"duration mean of each class and gender\")\n",
    "dataset_metadata_df.groupby([\"label\", \"gender\"])['duration'].mean()"
   ]
  },
  {
   "cell_type": "code",
   "execution_count": 50,
   "metadata": {},
   "outputs": [
    {
     "data": {
      "image/png": "[encoded data removed]",
      "text/plain": [
       "<Figure size 1200x600 with 1 Axes>"
      ]
     },
     "metadata": {},
     "output_type": "display_data"
    }
   ],
   "source": [
    "# Create the boxplot\n",
    "plt.figure(figsize=(12, 6))\n",
    "sns.boxplot(data=dataset_metadata_df, x='label', y='duration', hue='gender', palette='pastel')\n",
    "\n",
    "# Customize the plot\n",
    "plt.title(\"Boxplot of Audio Duration per Class and Gender\", fontsize=14)\n",
    "plt.xlabel(\"Class\", fontsize=12)\n",
    "plt.ylabel(\"Duration (Seconds)\", fontsize=12)\n",
    "plt.legend(title=\"Gender\")\n",
    "plt.xticks(rotation=45, ha='right')\n",
    "plt.tight_layout()\n",
    "\n",
    "# Show the plot\n",
    "plt.show()"
   ]
  },
  {
   "cell_type": "markdown",
   "metadata": {},
   "source": [
    "[Voltar ao topo](#topo)"
   ]
  }
 ],
 "metadata": {
  "kernelspec": {
   "display_name": ".venv",
   "language": "python",
   "name": "python3"
  },
  "language_info": {
   "codemirror_mode": {
    "name": "ipython",
    "version": 3
   },
   "file_extension": ".py",
   "mimetype": "text/x-python",
   "name": "python",
   "nbconvert_exporter": "python",
   "pygments_lexer": "ipython3",
   "version": "3.12.3"
  }
 },
 "nbformat": 4,
 "nbformat_minor": 2
}
